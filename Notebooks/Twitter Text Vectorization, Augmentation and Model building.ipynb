{
 "cells": [
  {
   "cell_type": "markdown",
   "metadata": {
    "id": "fgeLIIT3HuUi"
   },
   "source": [
    "- **In this notebook, \"preprocessed.csv\" will be used.**\n",
    "- **I will split df into training and testing set and then augment data to X_train using nlpaug. I will generate 6 new  sentences using one sentence of class=0 (Hate)**\n",
    "- **Text vectorization using pretrained fasttext model**\n",
    "- **Different models tested with or without oversampling techniques**"
   ]
  },
  {
   "cell_type": "code",
   "execution_count": 1,
   "metadata": {},
   "outputs": [],
   "source": [
    "# !pip install nlpaug\n",
    "# !pip install compress-fasttext\n",
    "\n",
    "import pandas as pd\n",
    "import nltk\n",
    "from nltk import pos_tag\n",
    "from nltk import word_tokenize\n",
    "from nltk.corpus import stopwords\n",
    "from nltk.corpus import wordnet\n",
    "from nltk.stem.wordnet import WordNetLemmatizer\n",
    "import re\n",
    "import string\n",
    "import numpy as np\n",
    "import warnings\n",
    "warnings.filterwarnings(\"ignore\")"
   ]
  },
  {
   "cell_type": "code",
   "execution_count": 3,
   "metadata": {
    "colab": {
     "base_uri": "https://localhost:8080/"
    },
    "id": "I9bEqIX5L5ea",
    "outputId": "c91e2830-066d-4095-8efe-e2985a324749"
   },
   "outputs": [
    {
     "name": "stderr",
     "output_type": "stream",
     "text": [
      "[nltk_data] Downloading package punkt to /root/nltk_data...\n",
      "[nltk_data]   Package punkt is already up-to-date!\n",
      "[nltk_data] Downloading package wordnet to /root/nltk_data...\n",
      "[nltk_data]   Package wordnet is already up-to-date!\n",
      "[nltk_data] Downloading package stopwords to /root/nltk_data...\n",
      "[nltk_data]   Package stopwords is already up-to-date!\n",
      "[nltk_data] Downloading package averaged_perceptron_tagger to\n",
      "[nltk_data]     /root/nltk_data...\n",
      "[nltk_data]   Package averaged_perceptron_tagger is already up-to-\n",
      "[nltk_data]       date!\n"
     ]
    },
    {
     "data": {
      "text/plain": [
       "True"
      ]
     },
     "execution_count": 3,
     "metadata": {},
     "output_type": "execute_result"
    }
   ],
   "source": [
    "nltk.download('punkt')\n",
    "nltk.download('wordnet')\n",
    "nltk.download('stopwords')\n",
    "nltk.download('averaged_perceptron_tagger')"
   ]
  },
  {
   "cell_type": "markdown",
   "metadata": {
    "id": "5CQAlSCAIora"
   },
   "source": [
    "### Loading Preprocesssed data"
   ]
  },
  {
   "cell_type": "code",
   "execution_count": 4,
   "metadata": {
    "id": "qDd9WKFtIn58"
   },
   "outputs": [],
   "source": [
    "df=pd.read_csv('preprocessed_data.csv')"
   ]
  },
  {
   "cell_type": "code",
   "execution_count": 5,
   "metadata": {
    "colab": {
     "base_uri": "https://localhost:8080/",
     "height": 528
    },
    "id": "gZHFnc8OJBIR",
    "outputId": "e44dc00d-f54d-40d3-a7c0-6691cc05af6f"
   },
   "outputs": [
    {
     "data": {
      "text/html": [
       "\n",
       "  <div id=\"df-0319d3cb-a240-4817-a4ed-c39e0e6c48e3\">\n",
       "    <div class=\"colab-df-container\">\n",
       "      <div>\n",
       "<style scoped>\n",
       "    .dataframe tbody tr th:only-of-type {\n",
       "        vertical-align: middle;\n",
       "    }\n",
       "\n",
       "    .dataframe tbody tr th {\n",
       "        vertical-align: top;\n",
       "    }\n",
       "\n",
       "    .dataframe thead th {\n",
       "        text-align: right;\n",
       "    }\n",
       "</style>\n",
       "<table border=\"1\" class=\"dataframe\">\n",
       "  <thead>\n",
       "    <tr style=\"text-align: right;\">\n",
       "      <th></th>\n",
       "      <th>class</th>\n",
       "      <th>tweet</th>\n",
       "      <th>clean_text</th>\n",
       "    </tr>\n",
       "  </thead>\n",
       "  <tbody>\n",
       "    <tr>\n",
       "      <th>13824</th>\n",
       "      <td>1</td>\n",
       "      <td>Photo: Happy Friday bitches #kimorablac http:/...</td>\n",
       "      <td>photo happy friday bitches None</td>\n",
       "    </tr>\n",
       "    <tr>\n",
       "      <th>16606</th>\n",
       "      <td>0</td>\n",
       "      <td>RT @NateThaAlmighty: niggas talk more than bit...</td>\n",
       "      <td>niggas talk more than bitches these days</td>\n",
       "    </tr>\n",
       "    <tr>\n",
       "      <th>13784</th>\n",
       "      <td>1</td>\n",
       "      <td>People are such bitches!!! Complaining over st...</td>\n",
       "      <td>people are such bitches complaining over stupi...</td>\n",
       "    </tr>\n",
       "    <tr>\n",
       "      <th>6883</th>\n",
       "      <td>1</td>\n",
       "      <td>@rachh_burkhart talkin bout the retard your si...</td>\n",
       "      <td>talkin about the retard your sittin on</td>\n",
       "    </tr>\n",
       "    <tr>\n",
       "      <th>22482</th>\n",
       "      <td>0</td>\n",
       "      <td>Washing my coon hair</td>\n",
       "      <td>washing my coon hair</td>\n",
       "    </tr>\n",
       "    <tr>\n",
       "      <th>13381</th>\n",
       "      <td>2</td>\n",
       "      <td>No girls no hoes just me myself and I</td>\n",
       "      <td>no girls no hoes just me myself and i</td>\n",
       "    </tr>\n",
       "    <tr>\n",
       "      <th>11231</th>\n",
       "      <td>1</td>\n",
       "      <td>I'm always dumb too a extra slow ass bitch &amp;#1...</td>\n",
       "      <td>i am always dumb too a extra slow ass bitch 12...</td>\n",
       "    </tr>\n",
       "    <tr>\n",
       "      <th>17324</th>\n",
       "      <td>1</td>\n",
       "      <td>RT @SirJakel: The awkward moment when you're c...</td>\n",
       "      <td>the awkward moment when you are changing in th...</td>\n",
       "    </tr>\n",
       "    <tr>\n",
       "      <th>16104</th>\n",
       "      <td>1</td>\n",
       "      <td>RT @LA_Everyday: @MJCANDANCE @PacDaGoat @Devot...</td>\n",
       "      <td>what the fuck this bitch sounds retarded</td>\n",
       "    </tr>\n",
       "    <tr>\n",
       "      <th>7833</th>\n",
       "      <td>2</td>\n",
       "      <td>Ask the governor how we are supposed to pay fo...</td>\n",
       "      <td>ask the governor how we are supposed to pay fo...</td>\n",
       "    </tr>\n",
       "  </tbody>\n",
       "</table>\n",
       "</div>\n",
       "      <button class=\"colab-df-convert\" onclick=\"convertToInteractive('df-0319d3cb-a240-4817-a4ed-c39e0e6c48e3')\"\n",
       "              title=\"Convert this dataframe to an interactive table.\"\n",
       "              style=\"display:none;\">\n",
       "        \n",
       "  <svg xmlns=\"http://www.w3.org/2000/svg\" height=\"24px\"viewBox=\"0 0 24 24\"\n",
       "       width=\"24px\">\n",
       "    <path d=\"M0 0h24v24H0V0z\" fill=\"none\"/>\n",
       "    <path d=\"M18.56 5.44l.94 2.06.94-2.06 2.06-.94-2.06-.94-.94-2.06-.94 2.06-2.06.94zm-11 1L8.5 8.5l.94-2.06 2.06-.94-2.06-.94L8.5 2.5l-.94 2.06-2.06.94zm10 10l.94 2.06.94-2.06 2.06-.94-2.06-.94-.94-2.06-.94 2.06-2.06.94z\"/><path d=\"M17.41 7.96l-1.37-1.37c-.4-.4-.92-.59-1.43-.59-.52 0-1.04.2-1.43.59L10.3 9.45l-7.72 7.72c-.78.78-.78 2.05 0 2.83L4 21.41c.39.39.9.59 1.41.59.51 0 1.02-.2 1.41-.59l7.78-7.78 2.81-2.81c.8-.78.8-2.07 0-2.86zM5.41 20L4 18.59l7.72-7.72 1.47 1.35L5.41 20z\"/>\n",
       "  </svg>\n",
       "      </button>\n",
       "      \n",
       "  <style>\n",
       "    .colab-df-container {\n",
       "      display:flex;\n",
       "      flex-wrap:wrap;\n",
       "      gap: 12px;\n",
       "    }\n",
       "\n",
       "    .colab-df-convert {\n",
       "      background-color: #E8F0FE;\n",
       "      border: none;\n",
       "      border-radius: 50%;\n",
       "      cursor: pointer;\n",
       "      display: none;\n",
       "      fill: #1967D2;\n",
       "      height: 32px;\n",
       "      padding: 0 0 0 0;\n",
       "      width: 32px;\n",
       "    }\n",
       "\n",
       "    .colab-df-convert:hover {\n",
       "      background-color: #E2EBFA;\n",
       "      box-shadow: 0px 1px 2px rgba(60, 64, 67, 0.3), 0px 1px 3px 1px rgba(60, 64, 67, 0.15);\n",
       "      fill: #174EA6;\n",
       "    }\n",
       "\n",
       "    [theme=dark] .colab-df-convert {\n",
       "      background-color: #3B4455;\n",
       "      fill: #D2E3FC;\n",
       "    }\n",
       "\n",
       "    [theme=dark] .colab-df-convert:hover {\n",
       "      background-color: #434B5C;\n",
       "      box-shadow: 0px 1px 3px 1px rgba(0, 0, 0, 0.15);\n",
       "      filter: drop-shadow(0px 1px 2px rgba(0, 0, 0, 0.3));\n",
       "      fill: #FFFFFF;\n",
       "    }\n",
       "  </style>\n",
       "\n",
       "      <script>\n",
       "        const buttonEl =\n",
       "          document.querySelector('#df-0319d3cb-a240-4817-a4ed-c39e0e6c48e3 button.colab-df-convert');\n",
       "        buttonEl.style.display =\n",
       "          google.colab.kernel.accessAllowed ? 'block' : 'none';\n",
       "\n",
       "        async function convertToInteractive(key) {\n",
       "          const element = document.querySelector('#df-0319d3cb-a240-4817-a4ed-c39e0e6c48e3');\n",
       "          const dataTable =\n",
       "            await google.colab.kernel.invokeFunction('convertToInteractive',\n",
       "                                                     [key], {});\n",
       "          if (!dataTable) return;\n",
       "\n",
       "          const docLinkHtml = 'Like what you see? Visit the ' +\n",
       "            '<a target=\"_blank\" href=https://colab.research.google.com/notebooks/data_table.ipynb>data table notebook</a>'\n",
       "            + ' to learn more about interactive tables.';\n",
       "          element.innerHTML = '';\n",
       "          dataTable['output_type'] = 'display_data';\n",
       "          await google.colab.output.renderOutput(dataTable, element);\n",
       "          const docLink = document.createElement('div');\n",
       "          docLink.innerHTML = docLinkHtml;\n",
       "          element.appendChild(docLink);\n",
       "        }\n",
       "      </script>\n",
       "    </div>\n",
       "  </div>\n",
       "  "
      ],
      "text/plain": [
       "       class                                              tweet  \\\n",
       "13824      1  Photo: Happy Friday bitches #kimorablac http:/...   \n",
       "16606      0  RT @NateThaAlmighty: niggas talk more than bit...   \n",
       "13784      1  People are such bitches!!! Complaining over st...   \n",
       "6883       1  @rachh_burkhart talkin bout the retard your si...   \n",
       "22482      0                               Washing my coon hair   \n",
       "13381      2              No girls no hoes just me myself and I   \n",
       "11231      1  I'm always dumb too a extra slow ass bitch &#1...   \n",
       "17324      1  RT @SirJakel: The awkward moment when you're c...   \n",
       "16104      1  RT @LA_Everyday: @MJCANDANCE @PacDaGoat @Devot...   \n",
       "7833       2  Ask the governor how we are supposed to pay fo...   \n",
       "\n",
       "                                              clean_text  \n",
       "13824                    photo happy friday bitches None  \n",
       "16606           niggas talk more than bitches these days  \n",
       "13784  people are such bitches complaining over stupi...  \n",
       "6883              talkin about the retard your sittin on  \n",
       "22482                               washing my coon hair  \n",
       "13381              no girls no hoes just me myself and i  \n",
       "11231  i am always dumb too a extra slow ass bitch 12...  \n",
       "17324  the awkward moment when you are changing in th...  \n",
       "16104           what the fuck this bitch sounds retarded  \n",
       "7833   ask the governor how we are supposed to pay fo...  "
      ]
     },
     "execution_count": 5,
     "metadata": {},
     "output_type": "execute_result"
    }
   ],
   "source": [
    "df.sample(10)"
   ]
  },
  {
   "cell_type": "markdown",
   "metadata": {
    "id": "qaIRFMtSIl-u"
   },
   "source": [
    "### As we have preprocessed data, we will now train test split data in training and testing datasets"
   ]
  },
  {
   "cell_type": "code",
   "execution_count": 6,
   "metadata": {
    "id": "OrQqfpvlIUjR"
   },
   "outputs": [],
   "source": [
    "from sklearn.model_selection import train_test_split\n",
    "\n",
    "X_train, X_test, y_train, y_test = train_test_split(df['clean_text'], df['class'], test_size=0.2,stratify=df['class'], random_state=42)"
   ]
  },
  {
   "cell_type": "code",
   "execution_count": 7,
   "metadata": {
    "colab": {
     "base_uri": "https://localhost:8080/"
    },
    "id": "BTDQo_YzJPdk",
    "outputId": "2df77f8a-8600-4d96-8d46-30f7cc81452b"
   },
   "outputs": [
    {
     "name": "stdout",
     "output_type": "stream",
     "text": [
      "No. of samples in training data:  19826\n"
     ]
    }
   ],
   "source": [
    "print (\"No. of samples in training data: \", X_train.shape[0] )"
   ]
  },
  {
   "cell_type": "code",
   "execution_count": 8,
   "metadata": {
    "colab": {
     "base_uri": "https://localhost:8080/"
    },
    "id": "KA5lepkYJPgG",
    "outputId": "2402d03c-8cfd-4ff8-d0b3-d3fb8be66a64"
   },
   "outputs": [
    {
     "name": "stdout",
     "output_type": "stream",
     "text": [
      "No. of samples in testing data:  4957\n"
     ]
    }
   ],
   "source": [
    "print (\"No. of samples in testing data: \", X_test.shape[0] )"
   ]
  },
  {
   "cell_type": "code",
   "execution_count": 9,
   "metadata": {
    "colab": {
     "base_uri": "https://localhost:8080/"
    },
    "id": "a6lTwTRdJPiy",
    "outputId": "168a4dbf-3a6a-4d55-e6bf-3c209eef231d"
   },
   "outputs": [
    {
     "name": "stdout",
     "output_type": "stream",
     "text": [
      "Percentage of class=0(Hate) in training set: 5.77 %\n",
      "Percentage of class=1(Offensive) in training set: 77.43 %\n",
      "Percentage of class=2(Neither) in training set: 16.80 %\n"
     ]
    }
   ],
   "source": [
    "print(\"Percentage of class=0(Hate) in training set: {:0.2f} %\".format((y_train.value_counts()[0]/len(y_train)) *100 ))\n",
    "print(\"Percentage of class=1(Offensive) in training set: {:0.2f} %\".format((y_train.value_counts()[1]/len(y_train)) *100 ))\n",
    "print(\"Percentage of class=2(Neither) in training set: {:0.2f} %\".format((y_train.value_counts()[2]/len(y_train)) *100 ))"
   ]
  },
  {
   "cell_type": "code",
   "execution_count": 10,
   "metadata": {
    "colab": {
     "base_uri": "https://localhost:8080/"
    },
    "id": "uUtyq4YKJPmQ",
    "outputId": "20334846-022f-4414-a845-bc10e19f1317"
   },
   "outputs": [
    {
     "name": "stdout",
     "output_type": "stream",
     "text": [
      "Percentage of class=0(Hate) in testing set: 5.77 %\n",
      "Percentage of class=1(Offensive) in testing set: 77.43 %\n",
      "Percentage of class=2(Neither) in testing set: 16.80 %\n"
     ]
    }
   ],
   "source": [
    "print(\"Percentage of class=0(Hate) in testing set: {:0.2f} %\".format((y_test.value_counts()[0]/len(y_test)) *100 ))\n",
    "print(\"Percentage of class=1(Offensive) in testing set: {:0.2f} %\".format((y_test.value_counts()[1]/len(y_test)) *100 ))\n",
    "print(\"Percentage of class=2(Neither) in testing set: {:0.2f} %\".format((y_test.value_counts()[2]/len(y_test)) *100 ))"
   ]
  },
  {
   "cell_type": "code",
   "execution_count": 11,
   "metadata": {
    "colab": {
     "base_uri": "https://localhost:8080/"
    },
    "id": "r_EpRR6jJmTb",
    "outputId": "bf743d0e-1e1a-46c9-f0a4-bf166ab09f59"
   },
   "outputs": [
    {
     "data": {
      "text/plain": [
       "1    3838\n",
       "2     833\n",
       "0     286\n",
       "Name: class, dtype: int64"
      ]
     },
     "execution_count": 11,
     "metadata": {},
     "output_type": "execute_result"
    }
   ],
   "source": [
    "y_test.value_counts()"
   ]
  },
  {
   "cell_type": "markdown",
   "metadata": {
    "id": "_pfkSL02Ildq"
   },
   "source": [
    "### Since data in training set is highly imbalanced we will generate new texts with existing dataset of class 0(Hate)"
   ]
  },
  {
   "cell_type": "markdown",
   "metadata": {
    "id": "0V7O2-alJv1J"
   },
   "source": [
    "## Data Augmentation"
   ]
  },
  {
   "cell_type": "code",
   "execution_count": 12,
   "metadata": {
    "id": "vHcEUDWKJq5K"
   },
   "outputs": [],
   "source": [
    "import nlpaug.augmenter.word as naw\n",
    "import nlpaug.flow as nafc\n",
    "from nlpaug.util import Action"
   ]
  },
  {
   "cell_type": "code",
   "execution_count": 13,
   "metadata": {
    "id": "lOfAY55KJ0aw"
   },
   "outputs": [],
   "source": [
    "aug = naw.SynonymAug(aug_src='wordnet',aug_max=3)"
   ]
  },
  {
   "cell_type": "markdown",
   "metadata": {
    "id": "Ygddoyl_LHXz"
   },
   "source": [
    "### We are generating 6 texts for every text of class 0 with help of nlpaug's synonym word augmentation"
   ]
  },
  {
   "cell_type": "code",
   "execution_count": 14,
   "metadata": {
    "id": "-XoQDMr9J07Q"
   },
   "outputs": [],
   "source": [
    "augmented_sentences=[]\n",
    "augmented_sentences_labels=[]\n",
    "for i in X_train.index:\n",
    "      if y_train[i]==0:\n",
    "        temps=aug.augment(X_train[i],n=6)\n",
    "        for sent in temps:\n",
    "              augmented_sentences.append(sent)\n",
    "              augmented_sentences_labels.append(0)"
   ]
  },
  {
   "cell_type": "code",
   "execution_count": 15,
   "metadata": {
    "colab": {
     "base_uri": "https://localhost:8080/"
    },
    "id": "pIHLJYEqJ1Ig",
    "outputId": "2c3e2e38-7dac-47db-bec8-0589f5687bb8"
   },
   "outputs": [
    {
     "name": "stdout",
     "output_type": "stream",
     "text": [
      "(26690,)\n",
      "(26690,)\n"
     ]
    }
   ],
   "source": [
    "X_train=X_train.append(pd.Series(augmented_sentences),ignore_index=True)\n",
    "y_train=y_train.append(pd.Series(augmented_sentences_labels),ignore_index=True)\n",
    "\n",
    "print(X_train.shape)\n",
    "print(y_train.shape)"
   ]
  },
  {
   "cell_type": "code",
   "execution_count": 16,
   "metadata": {
    "colab": {
     "base_uri": "https://localhost:8080/"
    },
    "id": "dJ4dviObKSGq",
    "outputId": "82d96a98-ee6a-4f0d-fa29-0defde117cb9"
   },
   "outputs": [
    {
     "data": {
      "text/plain": [
       "1    15352\n",
       "0     8008\n",
       "2     3330\n",
       "dtype: int64"
      ]
     },
     "execution_count": 16,
     "metadata": {},
     "output_type": "execute_result"
    }
   ],
   "source": [
    "y_train.value_counts()"
   ]
  },
  {
   "cell_type": "code",
   "execution_count": 17,
   "metadata": {
    "colab": {
     "base_uri": "https://localhost:8080/"
    },
    "id": "nYhd-7FYKU4Y",
    "outputId": "14d93824-94f4-4206-a730-5f220aaefc7b"
   },
   "outputs": [
    {
     "name": "stdout",
     "output_type": "stream",
     "text": [
      "Percentage of class=0(Hate) in training set after aug : 30.00 %\n"
     ]
    }
   ],
   "source": [
    "print(\"Percentage of class=0(Hate) in training set after aug : {:0.2f} %\".format((y_train.value_counts()[0]/len(y_train)) *100 ))"
   ]
  },
  {
   "cell_type": "code",
   "execution_count": 18,
   "metadata": {
    "colab": {
     "base_uri": "https://localhost:8080/",
     "height": 36
    },
    "id": "Nqe_oBn9LWSB",
    "outputId": "c2e8376c-8138-49c1-864e-94ac5a8c1080"
   },
   "outputs": [
    {
     "data": {
      "application/vnd.google.colaboratory.intrinsic+json": {
       "type": "string"
      },
      "text/plain": [
       "'jackie a retard None at least i can make a grilled cheese'"
      ]
     },
     "execution_count": 18,
     "metadata": {},
     "output_type": "execute_result"
    }
   ],
   "source": [
    "df[df['class']==0].iloc[10,2]"
   ]
  },
  {
   "cell_type": "code",
   "execution_count": 19,
   "metadata": {
    "colab": {
     "base_uri": "https://localhost:8080/"
    },
    "id": "nOP8nuonLWUl",
    "outputId": "1dcace5f-042a-42d4-aee9-0e9539a0d68f"
   },
   "outputs": [
    {
     "data": {
      "text/plain": [
       "['jackie a retard None at least i fanny make a grilled high mallow',\n",
       " 'jackie a retard None at least i can build a broiled cheese',\n",
       " 'jackie a retard None at least i can produce a barbecued cheese',\n",
       " 'jackie a retard None at least i can pretend a broiled cheese',\n",
       " 'jackie a retard None at least i john arrive at a grilled cheese',\n",
       " 'jackie a retard None at least i can gain a grilled malva sylvestris']"
      ]
     },
     "execution_count": 19,
     "metadata": {},
     "output_type": "execute_result"
    }
   ],
   "source": [
    "naw.SynonymAug(aug_src='wordnet',aug_max=3).augment(\"jackie a retard None at least i can make a grilled cheese\",n=6)"
   ]
  },
  {
   "cell_type": "markdown",
   "metadata": {
    "id": "UhUNxjH3LjFm"
   },
   "source": [
    "### Removing stopwords,emoticons, non alphanumeric words, punctuations and lemmatizing X_train"
   ]
  },
  {
   "cell_type": "code",
   "execution_count": 20,
   "metadata": {
    "id": "Wlj2Px2nLWaG"
   },
   "outputs": [],
   "source": [
    "# ======================================================================================================================\n",
    "# Creating list of Stop-words (pre-processing)\n",
    "# ======================================================================================================================\n",
    "new_stopwords=['say', 'get', 'go', 'know', 'may', 'need', 'make', 'see', 'want', 'come', 'take', 'use','life','money',\n",
    "               'little','even','head','right','eat','laugh','well','red','bad','best','year','today','watch','win','play',\n",
    "               'new','game','good','would', 'can', 'zero', 'one', 'two', 'three', 'four', 'five', 'six', 'seven', 'eight', 'nine', 'ten', 'may',\n",
    "           'also', 'across', 'among', 'beside', 'yet', 'within', 'mr', 'bbc', 'image', 'getty','woman','boy','guy'\n",
    "           'de', 'en', 'caption', 'copyright', 'something', 'tag', 'wait', 'set', 'put', 'add', 'post', 'give', 'way', 'check', 'think',\n",
    "          'www', 'must', 'look', 'call', 'minute', 'com', 'thing', 'much', 'happen','still','tell','talk','never','every,'\n",
    "          'quarantine', 'day', 'time', 'week', 'amp', 'find','None','man','girl','really','real','people','love','like','let','back' ]\n",
    "stop_words = set(list(stopwords.words('english')) + ['\"', '|'] + new_stopwords)\n",
    "\n",
    "# ======================================================================================================================\n",
    "# Creating list of Emoticons (pre-processing)\n",
    "# ======================================================================================================================\n",
    "# Happy Emoticons\n",
    "emoticons_happy = {':-)', ':)', ';)', ':o)', ':]', ':3', ':c)', ':>', '=]', '8)', '=)', ':}', ':^)', ':-D', ':D', '8-D',\n",
    "               '8D', 'x-D', 'xD', 'X-D', 'XD', '=-D', '=D', '=-3', '=3', ':-))', \":'-)\", \":')\", ':*', ':^*', '>:P',\n",
    "               ':-P', ':P', 'X-P', 'x-p', 'xp', 'XP', ':-p', ':p', '=p', ':-b', ':b', '>:)', '>;)', '>:-)', '<3'}\n",
    "\n",
    "# Sad Emoticons\n",
    "emoticons_sad = {':L', ':-/', '>:/', ':S', '>:[', ':@', ':-(', ':[', ':-||', '=L', ':<', ':-[', ':-<', '=\\\\', '=/',\n",
    "             '>:(', ':(', '>.<', \":'-(\", \":'(\", ':\\\\', ':-c', ':c', ':{', '>:\\\\', ';('}\n",
    "\n",
    "# Combine sad and happy emoticons\n",
    "emoticons = emoticons_happy.union(emoticons_sad)"
   ]
  },
  {
   "cell_type": "code",
   "execution_count": 21,
   "metadata": {
    "id": "801c4ZhnLq1e"
   },
   "outputs": [],
   "source": [
    "# ======================================================================================================================\n",
    "# Removing Non-alphanumeric words (pre-processing)\n",
    "# ======================================================================================================================\n",
    "\n",
    "# function to keep only alpharethmetic values\n",
    "def only_alpha(tokenized_text):\n",
    "    text_alpha = []\n",
    "    for word in tokenized_text:\n",
    "        word_alpha = re.sub('[^a-z A-Z]+', ' ', word)\n",
    "        text_alpha.append(word_alpha)\n",
    "    return text_alpha\n",
    "\n",
    "# ======================================================================================================================\n",
    "# Applying Lemmatization(pre-processing)\n",
    "# ======================================================================================================================\n",
    "\n",
    "# convert POS tag to wordnet tag in order to use in lemmatizer\n",
    "lemmatizer = WordNetLemmatizer()\n",
    "\n",
    "def nltk_pos_tagger(treebank_tag):\n",
    "    if treebank_tag.startswith('J'):\n",
    "        return wordnet.ADJ\n",
    "    elif treebank_tag.startswith('V'):\n",
    "        return wordnet.VERB\n",
    "    elif treebank_tag.startswith('N'):\n",
    "        return wordnet.NOUN\n",
    "    elif treebank_tag.startswith('R'):\n",
    "        return wordnet.ADV\n",
    "    else:          \n",
    "        return None\n",
    "#lemmatizing\n",
    "def lemmatizing(tokenized_text):\n",
    "\n",
    "    nltk_tagged = nltk.pos_tag(tokenized_text)  \n",
    "    wordnet_tagged = map(lambda x: (x[0], nltk_pos_tagger(x[1])), nltk_tagged)\n",
    "    lemma_list = []\n",
    "\n",
    "    for word, tag in wordnet_tagged:\n",
    "        if tag is None:\n",
    "            lemma_list.append(word)\n",
    "        else:        \n",
    "            lemma_list.append(lemmatizer.lemmatize(word, tag))\n",
    "    return lemma_list"
   ]
  },
  {
   "cell_type": "code",
   "execution_count": 22,
   "metadata": {
    "id": "OOAf5E2tMBi_"
   },
   "outputs": [],
   "source": [
    "def preprocess_lemma(text):\n",
    "        # tokenize text\n",
    "        tokenized_text = word_tokenize(text)\n",
    "\n",
    "        # remove all non alpharethmetic values\n",
    "        tokenized_text = only_alpha(tokenized_text)\n",
    "\n",
    "        # lemmatize / stem words\n",
    "        lemmatized_text =lemmatizing(tokenized_text)\n",
    "\n",
    "\n",
    "        filtered_text = []\n",
    "        # looping through conditions\n",
    "        for word in lemmatized_text:\n",
    "            word = word.strip()\n",
    "            # check tokens against stop words, emoticons and punctuations\n",
    "            # biggest english word: Pneumonoultramicroscopicsilicovolcanoconiosis (45 letters)\n",
    "            if (word not in stop_words and word not in emoticons and word not in string.punctuation\n",
    "                and not word.isspace() and len(word) > 1 and len(word) < 46):\n",
    "                \n",
    "                filtered_text.append(word)\n",
    "\n",
    "\n",
    "\n",
    "        return filtered_text"
   ]
  },
  {
   "cell_type": "code",
   "execution_count": 23,
   "metadata": {
    "colab": {
     "base_uri": "https://localhost:8080/"
    },
    "id": "DD-sDIV8MEo-",
    "outputId": "0836d80e-cef2-4b9d-d9ec-c771a4242c68"
   },
   "outputs": [
    {
     "data": {
      "text/plain": [
       "0                                  talking angela is a hoe\n",
       "1        laugh out loud they tricking niggas left and r...\n",
       "2                     128514 128514 bitches get stuff done\n",
       "3                                    bitch i got the flame\n",
       "4                                         good bitch choke\n",
       "                               ...                        \n",
       "26685    dyke bitches kill me thinkin they truly bring ...\n",
       "26686    dyke bitches kill maine thinkin they really go...\n",
       "26687    dyke bitches kill pine tree state thinkin they...\n",
       "26688    dyke bitch kill me thinkin they really got hoe...\n",
       "26689    dam bitches down me thinkin they really got ho...\n",
       "Length: 26690, dtype: object"
      ]
     },
     "execution_count": 23,
     "metadata": {},
     "output_type": "execute_result"
    }
   ],
   "source": [
    "X_train"
   ]
  },
  {
   "cell_type": "code",
   "execution_count": 24,
   "metadata": {
    "id": "pHQW7NmYMHuS"
   },
   "outputs": [],
   "source": [
    " X_train=[preprocess_lemma(item) for item in X_train]"
   ]
  },
  {
   "cell_type": "code",
   "execution_count": 25,
   "metadata": {
    "colab": {
     "base_uri": "https://localhost:8080/"
    },
    "id": "Uh4fMlmrMLjv",
    "outputId": "d4d460c4-a20f-4f13-c3ad-d4abf86a6184"
   },
   "outputs": [
    {
     "data": {
      "text/plain": [
       "26690"
      ]
     },
     "execution_count": 25,
     "metadata": {},
     "output_type": "execute_result"
    }
   ],
   "source": [
    "len(X_train)"
   ]
  },
  {
   "cell_type": "code",
   "execution_count": 26,
   "metadata": {
    "colab": {
     "base_uri": "https://localhost:8080/"
    },
    "id": "DPBxyN0LMfeP",
    "outputId": "0a95a8d2-1f55-47c6-ae0d-2b47d8f22ae1"
   },
   "outputs": [
    {
     "data": {
      "text/plain": [
       "['angela', 'hoe']"
      ]
     },
     "execution_count": 26,
     "metadata": {},
     "output_type": "execute_result"
    }
   ],
   "source": [
    "X_train[0]"
   ]
  },
  {
   "cell_type": "markdown",
   "metadata": {
    "id": "5OiUDFpxMlOS"
   },
   "source": [
    "### Removing stopwords,emoticons, non alphanumeric words, punctuations and lemmatizing X_test"
   ]
  },
  {
   "cell_type": "code",
   "execution_count": 27,
   "metadata": {
    "colab": {
     "base_uri": "https://localhost:8080/"
    },
    "id": "bxPKG3m4M60f",
    "outputId": "b26ad614-145e-4062-b2cf-bd1734da558b"
   },
   "outputs": [
    {
     "data": {
      "text/plain": [
       "15814    there is a gift shop at the 9 11 museum and th...\n",
       "3158     i need some red green amp yellow pants amp hel...\n",
       "24587    this the one 128076 hoes do not be wanting you...\n",
       "360                       i can turn yo bitch into a eater\n",
       "16123    shaking my head you got ebola now 8220 i stick...\n",
       "                               ...                        \n",
       "7975     because of the message that sends to None resi...\n",
       "8208     brush this nigga always falls asleep 128530 12...\n",
       "583      we are out here and we are queer 2 4 6 hut we ...\n",
       "17811    why give a bitch you heart when she rather hav...\n",
       "16594    almost forgot posing as an old brand will not ...\n",
       "Name: clean_text, Length: 4957, dtype: object"
      ]
     },
     "execution_count": 27,
     "metadata": {},
     "output_type": "execute_result"
    }
   ],
   "source": [
    "X_test"
   ]
  },
  {
   "cell_type": "code",
   "execution_count": 28,
   "metadata": {
    "id": "DB_ulgNlMiVX"
   },
   "outputs": [],
   "source": [
    " X_test= [preprocess_lemma(str(item)) for item in X_test]"
   ]
  },
  {
   "cell_type": "code",
   "execution_count": 29,
   "metadata": {
    "colab": {
     "base_uri": "https://localhost:8080/"
    },
    "id": "GDlRLonFMpRo",
    "outputId": "74668a73-7faf-42ff-d7ce-5dadfb7be4ca"
   },
   "outputs": [
    {
     "data": {
      "text/plain": [
       "4957"
      ]
     },
     "execution_count": 29,
     "metadata": {},
     "output_type": "execute_result"
    }
   ],
   "source": [
    "len(X_test)"
   ]
  },
  {
   "cell_type": "code",
   "execution_count": 30,
   "metadata": {
    "colab": {
     "base_uri": "https://localhost:8080/"
    },
    "id": "CBVCJk4lNdNi",
    "outputId": "21a53d16-ef1b-42bb-8e71-7fb0ea34d29e"
   },
   "outputs": [
    {
     "data": {
      "text/plain": [
       "['gift',\n",
       " 'shop',\n",
       " 'museum',\n",
       " 'charge',\n",
       " 'admission',\n",
       " 'mass',\n",
       " 'grave',\n",
       " 'fuck',\n",
       " 'cunt',\n",
       " 'disgrace']"
      ]
     },
     "execution_count": 30,
     "metadata": {},
     "output_type": "execute_result"
    }
   ],
   "source": [
    "X_test[0]"
   ]
  },
  {
   "cell_type": "markdown",
   "metadata": {
    "id": "9WZMtEqyNq4m"
   },
   "source": [
    "## Word2Vec Vectorization for X_train, X_test"
   ]
  },
  {
   "cell_type": "code",
   "execution_count": 31,
   "metadata": {
    "id": "mrPUYeXPNfj5"
   },
   "outputs": [],
   "source": [
    "import compress_fasttext\n",
    "small_model = compress_fasttext.models.CompressedFastTextKeyedVectors.load(\"cc.en.300.compressed.bin\")"
   ]
  },
  {
   "cell_type": "code",
   "execution_count": 32,
   "metadata": {
    "id": "Yr3sSobUNvPq"
   },
   "outputs": [],
   "source": [
    "def word_vector(tokens, size):\n",
    "    vec = np.zeros(size).reshape((1, size))\n",
    "    count = 0\n",
    "    for word in tokens:\n",
    "        try:\n",
    "            vec += small_model[word].reshape((1, size))\n",
    "            count += 1.\n",
    "        except KeyError:  # handling the case where the token is not in vocabulary\n",
    "            continue\n",
    "    if count != 0:\n",
    "        vec /= count\n",
    "    return vec"
   ]
  },
  {
   "cell_type": "code",
   "execution_count": 33,
   "metadata": {
    "colab": {
     "base_uri": "https://localhost:8080/"
    },
    "id": "yWcd2IgRNyLG",
    "outputId": "68c908bf-b007-4709-e819-e3d39b3099b1"
   },
   "outputs": [
    {
     "name": "stderr",
     "output_type": "stream",
     "text": [
      "WARNING:gensim.models.fasttext:could not extract any ngrams from 'cu', returning origin vector\n",
      "WARNING:gensim.models.fasttext:could not extract any ngrams from 'yu', returning origin vector\n",
      "WARNING:gensim.models.fasttext:could not extract any ngrams from 'ik', returning origin vector\n",
      "WARNING:gensim.models.fasttext:could not extract any ngrams from 'pa', returning origin vector\n",
      "WARNING:gensim.models.fasttext:could not extract any ngrams from 'fo', returning origin vector\n",
      "WARNING:gensim.models.fasttext:could not extract any ngrams from 'ut', returning origin vector\n",
      "WARNING:gensim.models.fasttext:could not extract any ngrams from 'fo', returning origin vector\n",
      "WARNING:gensim.models.fasttext:could not extract any ngrams from 'ab', returning origin vector\n",
      "WARNING:gensim.models.fasttext:could not extract any ngrams from 'dy', returning origin vector\n",
      "WARNING:gensim.models.fasttext:could not extract any ngrams from 'ik', returning origin vector\n",
      "WARNING:gensim.models.fasttext:could not extract any ngrams from 'fa', returning origin vector\n",
      "WARNING:gensim.models.fasttext:could not extract any ngrams from 'af', returning origin vector\n",
      "WARNING:gensim.models.fasttext:could not extract any ngrams from 'ae', returning origin vector\n",
      "WARNING:gensim.models.fasttext:could not extract any ngrams from 'ab', returning origin vector\n",
      "WARNING:gensim.models.fasttext:could not extract any ngrams from 'af', returning origin vector\n",
      "WARNING:gensim.models.fasttext:could not extract any ngrams from 'fo', returning origin vector\n",
      "WARNING:gensim.models.fasttext:could not extract any ngrams from 'ta', returning origin vector\n",
      "WARNING:gensim.models.fasttext:could not extract any ngrams from 'iu', returning origin vector\n",
      "WARNING:gensim.models.fasttext:could not extract any ngrams from 'af', returning origin vector\n",
      "WARNING:gensim.models.fasttext:could not extract any ngrams from 'fo', returning origin vector\n",
      "WARNING:gensim.models.fasttext:could not extract any ngrams from 'yu', returning origin vector\n",
      "WARNING:gensim.models.fasttext:could not extract any ngrams from 'fo', returning origin vector\n",
      "WARNING:gensim.models.fasttext:could not extract any ngrams from 'ig', returning origin vector\n",
      "WARNING:gensim.models.fasttext:could not extract any ngrams from 'cu', returning origin vector\n",
      "WARNING:gensim.models.fasttext:could not extract any ngrams from 'ga', returning origin vector\n",
      "WARNING:gensim.models.fasttext:could not extract any ngrams from 'fu', returning origin vector\n",
      "WARNING:gensim.models.fasttext:could not extract any ngrams from 'uw', returning origin vector\n",
      "WARNING:gensim.models.fasttext:could not extract any ngrams from 'iu', returning origin vector\n",
      "WARNING:gensim.models.fasttext:could not extract any ngrams from 'af', returning origin vector\n",
      "WARNING:gensim.models.fasttext:could not extract any ngrams from 'yu', returning origin vector\n",
      "WARNING:gensim.models.fasttext:could not extract any ngrams from 'po', returning origin vector\n",
      "WARNING:gensim.models.fasttext:could not extract any ngrams from 'ab', returning origin vector\n",
      "WARNING:gensim.models.fasttext:could not extract any ngrams from 'og', returning origin vector\n",
      "WARNING:gensim.models.fasttext:could not extract any ngrams from 'ap', returning origin vector\n",
      "WARNING:gensim.models.fasttext:could not extract any ngrams from 'ig', returning origin vector\n",
      "WARNING:gensim.models.fasttext:could not extract any ngrams from 'fu', returning origin vector\n",
      "WARNING:gensim.models.fasttext:could not extract any ngrams from 'fo', returning origin vector\n",
      "WARNING:gensim.models.fasttext:could not extract any ngrams from 'af', returning origin vector\n",
      "WARNING:gensim.models.fasttext:could not extract any ngrams from 'je', returning origin vector\n",
      "WARNING:gensim.models.fasttext:could not extract any ngrams from 'je', returning origin vector\n",
      "WARNING:gensim.models.fasttext:could not extract any ngrams from 'je', returning origin vector\n",
      "WARNING:gensim.models.fasttext:could not extract any ngrams from 'ta', returning origin vector\n",
      "WARNING:gensim.models.fasttext:could not extract any ngrams from 'aw', returning origin vector\n",
      "WARNING:gensim.models.fasttext:could not extract any ngrams from 'az', returning origin vector\n",
      "WARNING:gensim.models.fasttext:could not extract any ngrams from 'ig', returning origin vector\n",
      "WARNING:gensim.models.fasttext:could not extract any ngrams from 'ud', returning origin vector\n",
      "WARNING:gensim.models.fasttext:could not extract any ngrams from 'ig', returning origin vector\n",
      "WARNING:gensim.models.fasttext:could not extract any ngrams from 'ut', returning origin vector\n",
      "WARNING:gensim.models.fasttext:could not extract any ngrams from 'fu', returning origin vector\n",
      "WARNING:gensim.models.fasttext:could not extract any ngrams from 'az', returning origin vector\n",
      "WARNING:gensim.models.fasttext:could not extract any ngrams from 'ga', returning origin vector\n",
      "WARNING:gensim.models.fasttext:could not extract any ngrams from 'ig', returning origin vector\n",
      "WARNING:gensim.models.fasttext:could not extract any ngrams from 'bo', returning origin vector\n",
      "WARNING:gensim.models.fasttext:could not extract any ngrams from 'af', returning origin vector\n",
      "WARNING:gensim.models.fasttext:could not extract any ngrams from 'af', returning origin vector\n",
      "WARNING:gensim.models.fasttext:could not extract any ngrams from 'af', returning origin vector\n",
      "WARNING:gensim.models.fasttext:could not extract any ngrams from 'ik', returning origin vector\n",
      "WARNING:gensim.models.fasttext:could not extract any ngrams from 'ea', returning origin vector\n",
      "WARNING:gensim.models.fasttext:could not extract any ngrams from 'ig', returning origin vector\n",
      "WARNING:gensim.models.fasttext:could not extract any ngrams from 'fa', returning origin vector\n",
      "WARNING:gensim.models.fasttext:could not extract any ngrams from 'ke', returning origin vector\n",
      "WARNING:gensim.models.fasttext:could not extract any ngrams from 'fo', returning origin vector\n",
      "WARNING:gensim.models.fasttext:could not extract any ngrams from 'pa', returning origin vector\n",
      "WARNING:gensim.models.fasttext:could not extract any ngrams from 'yu', returning origin vector\n",
      "WARNING:gensim.models.fasttext:could not extract any ngrams from 'fa', returning origin vector\n",
      "WARNING:gensim.models.fasttext:could not extract any ngrams from 'ai', returning origin vector\n",
      "WARNING:gensim.models.fasttext:could not extract any ngrams from 'aw', returning origin vector\n",
      "WARNING:gensim.models.fasttext:could not extract any ngrams from 'az', returning origin vector\n",
      "WARNING:gensim.models.fasttext:could not extract any ngrams from 'fu', returning origin vector\n",
      "WARNING:gensim.models.fasttext:could not extract any ngrams from 'af', returning origin vector\n",
      "WARNING:gensim.models.fasttext:could not extract any ngrams from 'ik', returning origin vector\n",
      "WARNING:gensim.models.fasttext:could not extract any ngrams from 'ze', returning origin vector\n",
      "WARNING:gensim.models.fasttext:could not extract any ngrams from 'je', returning origin vector\n",
      "WARNING:gensim.models.fasttext:could not extract any ngrams from 'uv', returning origin vector\n",
      "WARNING:gensim.models.fasttext:could not extract any ngrams from 'bo', returning origin vector\n",
      "WARNING:gensim.models.fasttext:could not extract any ngrams from 'yu', returning origin vector\n",
      "WARNING:gensim.models.fasttext:could not extract any ngrams from 'yu', returning origin vector\n",
      "WARNING:gensim.models.fasttext:could not extract any ngrams from 'af', returning origin vector\n",
      "WARNING:gensim.models.fasttext:could not extract any ngrams from 'ny', returning origin vector\n",
      "WARNING:gensim.models.fasttext:could not extract any ngrams from 'fo', returning origin vector\n",
      "WARNING:gensim.models.fasttext:could not extract any ngrams from 'uf', returning origin vector\n",
      "WARNING:gensim.models.fasttext:could not extract any ngrams from 'fu', returning origin vector\n",
      "WARNING:gensim.models.fasttext:could not extract any ngrams from 'af', returning origin vector\n",
      "WARNING:gensim.models.fasttext:could not extract any ngrams from 'ig', returning origin vector\n",
      "WARNING:gensim.models.fasttext:could not extract any ngrams from 'ny', returning origin vector\n",
      "WARNING:gensim.models.fasttext:could not extract any ngrams from 'ev', returning origin vector\n",
      "WARNING:gensim.models.fasttext:could not extract any ngrams from 'ny', returning origin vector\n",
      "WARNING:gensim.models.fasttext:could not extract any ngrams from 'wy', returning origin vector\n",
      "WARNING:gensim.models.fasttext:could not extract any ngrams from 'af', returning origin vector\n",
      "WARNING:gensim.models.fasttext:could not extract any ngrams from 'ko', returning origin vector\n",
      "WARNING:gensim.models.fasttext:could not extract any ngrams from 'bo', returning origin vector\n",
      "WARNING:gensim.models.fasttext:could not extract any ngrams from 'wu', returning origin vector\n",
      "WARNING:gensim.models.fasttext:could not extract any ngrams from 'fo', returning origin vector\n",
      "WARNING:gensim.models.fasttext:could not extract any ngrams from 'ta', returning origin vector\n",
      "WARNING:gensim.models.fasttext:could not extract any ngrams from 'af', returning origin vector\n",
      "WARNING:gensim.models.fasttext:could not extract any ngrams from 'af', returning origin vector\n",
      "WARNING:gensim.models.fasttext:could not extract any ngrams from 'po', returning origin vector\n",
      "WARNING:gensim.models.fasttext:could not extract any ngrams from 'fa', returning origin vector\n",
      "WARNING:gensim.models.fasttext:could not extract any ngrams from 'af', returning origin vector\n",
      "WARNING:gensim.models.fasttext:could not extract any ngrams from 'vi', returning origin vector\n",
      "WARNING:gensim.models.fasttext:could not extract any ngrams from 'fu', returning origin vector\n",
      "WARNING:gensim.models.fasttext:could not extract any ngrams from 'af', returning origin vector\n",
      "WARNING:gensim.models.fasttext:could not extract any ngrams from 'ap', returning origin vector\n",
      "WARNING:gensim.models.fasttext:could not extract any ngrams from 'af', returning origin vector\n",
      "WARNING:gensim.models.fasttext:could not extract any ngrams from 'yu', returning origin vector\n",
      "WARNING:gensim.models.fasttext:could not extract any ngrams from 'su', returning origin vector\n",
      "WARNING:gensim.models.fasttext:could not extract any ngrams from 'ay', returning origin vector\n",
      "WARNING:gensim.models.fasttext:could not extract any ngrams from 'fo', returning origin vector\n",
      "WARNING:gensim.models.fasttext:could not extract any ngrams from 'iu', returning origin vector\n",
      "WARNING:gensim.models.fasttext:could not extract any ngrams from 'yu', returning origin vector\n",
      "WARNING:gensim.models.fasttext:could not extract any ngrams from 'fu', returning origin vector\n",
      "WARNING:gensim.models.fasttext:could not extract any ngrams from 'pa', returning origin vector\n",
      "WARNING:gensim.models.fasttext:could not extract any ngrams from 'fu', returning origin vector\n",
      "WARNING:gensim.models.fasttext:could not extract any ngrams from 'ra', returning origin vector\n",
      "WARNING:gensim.models.fasttext:could not extract any ngrams from 'fa', returning origin vector\n",
      "WARNING:gensim.models.fasttext:could not extract any ngrams from 'iu', returning origin vector\n",
      "WARNING:gensim.models.fasttext:could not extract any ngrams from 'ni', returning origin vector\n",
      "WARNING:gensim.models.fasttext:could not extract any ngrams from 'ig', returning origin vector\n",
      "WARNING:gensim.models.fasttext:could not extract any ngrams from 'oj', returning origin vector\n",
      "WARNING:gensim.models.fasttext:could not extract any ngrams from 'dy', returning origin vector\n",
      "WARNING:gensim.models.fasttext:could not extract any ngrams from 'aw', returning origin vector\n",
      "WARNING:gensim.models.fasttext:could not extract any ngrams from 'wi', returning origin vector\n",
      "WARNING:gensim.models.fasttext:could not extract any ngrams from 'ge', returning origin vector\n",
      "WARNING:gensim.models.fasttext:could not extract any ngrams from 'fu', returning origin vector\n",
      "WARNING:gensim.models.fasttext:could not extract any ngrams from 'ta', returning origin vector\n",
      "WARNING:gensim.models.fasttext:could not extract any ngrams from 'ga', returning origin vector\n",
      "WARNING:gensim.models.fasttext:could not extract any ngrams from 'ri', returning origin vector\n",
      "WARNING:gensim.models.fasttext:could not extract any ngrams from 'ay', returning origin vector\n",
      "WARNING:gensim.models.fasttext:could not extract any ngrams from 'af', returning origin vector\n",
      "WARNING:gensim.models.fasttext:could not extract any ngrams from 'bo', returning origin vector\n",
      "WARNING:gensim.models.fasttext:could not extract any ngrams from 'ab', returning origin vector\n",
      "WARNING:gensim.models.fasttext:could not extract any ngrams from 'af', returning origin vector\n",
      "WARNING:gensim.models.fasttext:could not extract any ngrams from 'ke', returning origin vector\n",
      "WARNING:gensim.models.fasttext:could not extract any ngrams from 'po', returning origin vector\n",
      "WARNING:gensim.models.fasttext:could not extract any ngrams from 'po', returning origin vector\n",
      "WARNING:gensim.models.fasttext:could not extract any ngrams from 'ew', returning origin vector\n",
      "WARNING:gensim.models.fasttext:could not extract any ngrams from 'bi', returning origin vector\n",
      "WARNING:gensim.models.fasttext:could not extract any ngrams from 'ba', returning origin vector\n",
      "WARNING:gensim.models.fasttext:could not extract any ngrams from 'ul', returning origin vector\n",
      "WARNING:gensim.models.fasttext:could not extract any ngrams from 'af', returning origin vector\n",
      "WARNING:gensim.models.fasttext:could not extract any ngrams from 'af', returning origin vector\n",
      "WARNING:gensim.models.fasttext:could not extract any ngrams from 'ny', returning origin vector\n",
      "WARNING:gensim.models.fasttext:could not extract any ngrams from 'af', returning origin vector\n",
      "WARNING:gensim.models.fasttext:could not extract any ngrams from 'af', returning origin vector\n",
      "WARNING:gensim.models.fasttext:could not extract any ngrams from 'pa', returning origin vector\n",
      "WARNING:gensim.models.fasttext:could not extract any ngrams from 'af', returning origin vector\n",
      "WARNING:gensim.models.fasttext:could not extract any ngrams from 'iu', returning origin vector\n",
      "WARNING:gensim.models.fasttext:could not extract any ngrams from 'yu', returning origin vector\n",
      "WARNING:gensim.models.fasttext:could not extract any ngrams from 'ta', returning origin vector\n",
      "WARNING:gensim.models.fasttext:could not extract any ngrams from 'ak', returning origin vector\n",
      "WARNING:gensim.models.fasttext:could not extract any ngrams from 'ny', returning origin vector\n",
      "WARNING:gensim.models.fasttext:could not extract any ngrams from 'ja', returning origin vector\n",
      "WARNING:gensim.models.fasttext:could not extract any ngrams from 'cu', returning origin vector\n",
      "WARNING:gensim.models.fasttext:could not extract any ngrams from 'iu', returning origin vector\n",
      "WARNING:gensim.models.fasttext:could not extract any ngrams from 'ay', returning origin vector\n",
      "WARNING:gensim.models.fasttext:could not extract any ngrams from 'ag', returning origin vector\n",
      "WARNING:gensim.models.fasttext:could not extract any ngrams from 'fi', returning origin vector\n",
      "WARNING:gensim.models.fasttext:could not extract any ngrams from 'yu', returning origin vector\n",
      "WARNING:gensim.models.fasttext:could not extract any ngrams from 'yu', returning origin vector\n",
      "WARNING:gensim.models.fasttext:could not extract any ngrams from 'ta', returning origin vector\n",
      "WARNING:gensim.models.fasttext:could not extract any ngrams from 'ta', returning origin vector\n",
      "WARNING:gensim.models.fasttext:could not extract any ngrams from 'ee', returning origin vector\n",
      "WARNING:gensim.models.fasttext:could not extract any ngrams from 'af', returning origin vector\n",
      "WARNING:gensim.models.fasttext:could not extract any ngrams from 'yu', returning origin vector\n",
      "WARNING:gensim.models.fasttext:could not extract any ngrams from 'tu', returning origin vector\n",
      "WARNING:gensim.models.fasttext:could not extract any ngrams from 'fa', returning origin vector\n",
      "WARNING:gensim.models.fasttext:could not extract any ngrams from 'ik', returning origin vector\n",
      "WARNING:gensim.models.fasttext:could not extract any ngrams from 'fa', returning origin vector\n",
      "WARNING:gensim.models.fasttext:could not extract any ngrams from 'ee', returning origin vector\n",
      "WARNING:gensim.models.fasttext:could not extract any ngrams from 'bi', returning origin vector\n",
      "WARNING:gensim.models.fasttext:could not extract any ngrams from 'fo', returning origin vector\n",
      "WARNING:gensim.models.fasttext:could not extract any ngrams from 'ag', returning origin vector\n",
      "WARNING:gensim.models.fasttext:could not extract any ngrams from 'mu', returning origin vector\n",
      "WARNING:gensim.models.fasttext:could not extract any ngrams from 'pa', returning origin vector\n",
      "WARNING:gensim.models.fasttext:could not extract any ngrams from 'ig', returning origin vector\n",
      "WARNING:gensim.models.fasttext:could not extract any ngrams from 'af', returning origin vector\n",
      "WARNING:gensim.models.fasttext:could not extract any ngrams from 'cu', returning origin vector\n",
      "WARNING:gensim.models.fasttext:could not extract any ngrams from 'yu', returning origin vector\n",
      "WARNING:gensim.models.fasttext:could not extract any ngrams from 'fu', returning origin vector\n",
      "WARNING:gensim.models.fasttext:could not extract any ngrams from 'ab', returning origin vector\n",
      "WARNING:gensim.models.fasttext:could not extract any ngrams from 'aw', returning origin vector\n",
      "WARNING:gensim.models.fasttext:could not extract any ngrams from 'ik', returning origin vector\n",
      "WARNING:gensim.models.fasttext:could not extract any ngrams from 'aw', returning origin vector\n",
      "WARNING:gensim.models.fasttext:could not extract any ngrams from 'pa', returning origin vector\n",
      "WARNING:gensim.models.fasttext:could not extract any ngrams from 'ee', returning origin vector\n",
      "WARNING:gensim.models.fasttext:could not extract any ngrams from 'af', returning origin vector\n",
      "WARNING:gensim.models.fasttext:could not extract any ngrams from 'ew', returning origin vector\n",
      "WARNING:gensim.models.fasttext:could not extract any ngrams from 'af', returning origin vector\n",
      "WARNING:gensim.models.fasttext:could not extract any ngrams from 'ou', returning origin vector\n",
      "WARNING:gensim.models.fasttext:could not extract any ngrams from 'yu', returning origin vector\n",
      "WARNING:gensim.models.fasttext:could not extract any ngrams from 'ae', returning origin vector\n",
      "WARNING:gensim.models.fasttext:could not extract any ngrams from 'af', returning origin vector\n",
      "WARNING:gensim.models.fasttext:could not extract any ngrams from 'wu', returning origin vector\n",
      "WARNING:gensim.models.fasttext:could not extract any ngrams from 'ab', returning origin vector\n",
      "WARNING:gensim.models.fasttext:could not extract any ngrams from 'yu', returning origin vector\n",
      "WARNING:gensim.models.fasttext:could not extract any ngrams from 'cu', returning origin vector\n",
      "WARNING:gensim.models.fasttext:could not extract any ngrams from 'hy', returning origin vector\n",
      "WARNING:gensim.models.fasttext:could not extract any ngrams from 'ta', returning origin vector\n",
      "WARNING:gensim.models.fasttext:could not extract any ngrams from 'fe', returning origin vector\n",
      "WARNING:gensim.models.fasttext:could not extract any ngrams from 'ep', returning origin vector\n",
      "WARNING:gensim.models.fasttext:could not extract any ngrams from 'af', returning origin vector\n",
      "WARNING:gensim.models.fasttext:could not extract any ngrams from 'ig', returning origin vector\n",
      "WARNING:gensim.models.fasttext:could not extract any ngrams from 'ig', returning origin vector\n",
      "WARNING:gensim.models.fasttext:could not extract any ngrams from 'af', returning origin vector\n",
      "WARNING:gensim.models.fasttext:could not extract any ngrams from 'ny', returning origin vector\n",
      "WARNING:gensim.models.fasttext:could not extract any ngrams from 'fu', returning origin vector\n",
      "WARNING:gensim.models.fasttext:could not extract any ngrams from 'yu', returning origin vector\n",
      "WARNING:gensim.models.fasttext:could not extract any ngrams from 'fa', returning origin vector\n",
      "WARNING:gensim.models.fasttext:could not extract any ngrams from 'bo', returning origin vector\n",
      "WARNING:gensim.models.fasttext:could not extract any ngrams from 'ny', returning origin vector\n",
      "WARNING:gensim.models.fasttext:could not extract any ngrams from 'ta', returning origin vector\n",
      "WARNING:gensim.models.fasttext:could not extract any ngrams from 'cu', returning origin vector\n",
      "WARNING:gensim.models.fasttext:could not extract any ngrams from 'ab', returning origin vector\n",
      "WARNING:gensim.models.fasttext:could not extract any ngrams from 'ab', returning origin vector\n",
      "WARNING:gensim.models.fasttext:could not extract any ngrams from 'af', returning origin vector\n",
      "WARNING:gensim.models.fasttext:could not extract any ngrams from 'xu', returning origin vector\n",
      "WARNING:gensim.models.fasttext:could not extract any ngrams from 'ra', returning origin vector\n",
      "WARNING:gensim.models.fasttext:could not extract any ngrams from 'yu', returning origin vector\n",
      "WARNING:gensim.models.fasttext:could not extract any ngrams from 'ig', returning origin vector\n",
      "WARNING:gensim.models.fasttext:could not extract any ngrams from 'ew', returning origin vector\n",
      "WARNING:gensim.models.fasttext:could not extract any ngrams from 'yu', returning origin vector\n",
      "WARNING:gensim.models.fasttext:could not extract any ngrams from 'yu', returning origin vector\n",
      "WARNING:gensim.models.fasttext:could not extract any ngrams from 'ai', returning origin vector\n",
      "WARNING:gensim.models.fasttext:could not extract any ngrams from 'aw', returning origin vector\n",
      "WARNING:gensim.models.fasttext:could not extract any ngrams from 'ae', returning origin vector\n",
      "WARNING:gensim.models.fasttext:could not extract any ngrams from 'ai', returning origin vector\n",
      "WARNING:gensim.models.fasttext:could not extract any ngrams from 'af', returning origin vector\n",
      "WARNING:gensim.models.fasttext:could not extract any ngrams from 'yu', returning origin vector\n",
      "WARNING:gensim.models.fasttext:could not extract any ngrams from 'fa', returning origin vector\n",
      "WARNING:gensim.models.fasttext:could not extract any ngrams from 'wi', returning origin vector\n",
      "WARNING:gensim.models.fasttext:could not extract any ngrams from 'fu', returning origin vector\n",
      "WARNING:gensim.models.fasttext:could not extract any ngrams from 'af', returning origin vector\n",
      "WARNING:gensim.models.fasttext:could not extract any ngrams from 'ro', returning origin vector\n",
      "WARNING:gensim.models.fasttext:could not extract any ngrams from 'yu', returning origin vector\n",
      "WARNING:gensim.models.fasttext:could not extract any ngrams from 'aw', returning origin vector\n",
      "WARNING:gensim.models.fasttext:could not extract any ngrams from 'ta', returning origin vector\n",
      "WARNING:gensim.models.fasttext:could not extract any ngrams from 'ke', returning origin vector\n",
      "WARNING:gensim.models.fasttext:could not extract any ngrams from 'uo', returning origin vector\n",
      "WARNING:gensim.models.fasttext:could not extract any ngrams from 'fo', returning origin vector\n",
      "WARNING:gensim.models.fasttext:could not extract any ngrams from 'af', returning origin vector\n",
      "WARNING:gensim.models.fasttext:could not extract any ngrams from 'ud', returning origin vector\n",
      "WARNING:gensim.models.fasttext:could not extract any ngrams from 'yu', returning origin vector\n",
      "WARNING:gensim.models.fasttext:could not extract any ngrams from 'ud', returning origin vector\n",
      "WARNING:gensim.models.fasttext:could not extract any ngrams from 'fu', returning origin vector\n",
      "WARNING:gensim.models.fasttext:could not extract any ngrams from 'ew', returning origin vector\n",
      "WARNING:gensim.models.fasttext:could not extract any ngrams from 'ow', returning origin vector\n",
      "WARNING:gensim.models.fasttext:could not extract any ngrams from 'fo', returning origin vector\n",
      "WARNING:gensim.models.fasttext:could not extract any ngrams from 'af', returning origin vector\n",
      "WARNING:gensim.models.fasttext:could not extract any ngrams from 'iz', returning origin vector\n",
      "WARNING:gensim.models.fasttext:could not extract any ngrams from 'ut', returning origin vector\n",
      "WARNING:gensim.models.fasttext:could not extract any ngrams from 'fu', returning origin vector\n",
      "WARNING:gensim.models.fasttext:could not extract any ngrams from 'ar', returning origin vector\n",
      "WARNING:gensim.models.fasttext:could not extract any ngrams from 'ki', returning origin vector\n",
      "WARNING:gensim.models.fasttext:could not extract any ngrams from 'ig', returning origin vector\n",
      "WARNING:gensim.models.fasttext:could not extract any ngrams from 'aw', returning origin vector\n",
      "WARNING:gensim.models.fasttext:could not extract any ngrams from 'xu', returning origin vector\n",
      "WARNING:gensim.models.fasttext:could not extract any ngrams from 'ap', returning origin vector\n",
      "WARNING:gensim.models.fasttext:could not extract any ngrams from 'af', returning origin vector\n",
      "WARNING:gensim.models.fasttext:could not extract any ngrams from 'ew', returning origin vector\n",
      "WARNING:gensim.models.fasttext:could not extract any ngrams from 'fo', returning origin vector\n",
      "WARNING:gensim.models.fasttext:could not extract any ngrams from 'yu', returning origin vector\n",
      "WARNING:gensim.models.fasttext:could not extract any ngrams from 'su', returning origin vector\n",
      "WARNING:gensim.models.fasttext:could not extract any ngrams from 'ig', returning origin vector\n",
      "WARNING:gensim.models.fasttext:could not extract any ngrams from 'pe', returning origin vector\n",
      "WARNING:gensim.models.fasttext:could not extract any ngrams from 'fu', returning origin vector\n",
      "WARNING:gensim.models.fasttext:could not extract any ngrams from 'af', returning origin vector\n",
      "WARNING:gensim.models.fasttext:could not extract any ngrams from 'fu', returning origin vector\n",
      "WARNING:gensim.models.fasttext:could not extract any ngrams from 'ak', returning origin vector\n",
      "WARNING:gensim.models.fasttext:could not extract any ngrams from 'ig', returning origin vector\n",
      "WARNING:gensim.models.fasttext:could not extract any ngrams from 'nu', returning origin vector\n",
      "WARNING:gensim.models.fasttext:could not extract any ngrams from 'ez', returning origin vector\n",
      "WARNING:gensim.models.fasttext:could not extract any ngrams from 'ew', returning origin vector\n",
      "WARNING:gensim.models.fasttext:could not extract any ngrams from 'ax', returning origin vector\n",
      "WARNING:gensim.models.fasttext:could not extract any ngrams from 'vu', returning origin vector\n",
      "WARNING:gensim.models.fasttext:could not extract any ngrams from 'ke', returning origin vector\n",
      "WARNING:gensim.models.fasttext:could not extract any ngrams from 'fa', returning origin vector\n",
      "WARNING:gensim.models.fasttext:could not extract any ngrams from 'af', returning origin vector\n",
      "WARNING:gensim.models.fasttext:could not extract any ngrams from 'cu', returning origin vector\n",
      "WARNING:gensim.models.fasttext:could not extract any ngrams from 'fu', returning origin vector\n",
      "WARNING:gensim.models.fasttext:could not extract any ngrams from 'ig', returning origin vector\n",
      "WARNING:gensim.models.fasttext:could not extract any ngrams from 'ig', returning origin vector\n",
      "WARNING:gensim.models.fasttext:could not extract any ngrams from 'ro', returning origin vector\n",
      "WARNING:gensim.models.fasttext:could not extract any ngrams from 'cu', returning origin vector\n",
      "WARNING:gensim.models.fasttext:could not extract any ngrams from 'fa', returning origin vector\n",
      "WARNING:gensim.models.fasttext:could not extract any ngrams from 'ew', returning origin vector\n",
      "WARNING:gensim.models.fasttext:could not extract any ngrams from 'yu', returning origin vector\n",
      "WARNING:gensim.models.fasttext:could not extract any ngrams from 'ig', returning origin vector\n",
      "WARNING:gensim.models.fasttext:could not extract any ngrams from 'wi', returning origin vector\n",
      "WARNING:gensim.models.fasttext:could not extract any ngrams from 'yu', returning origin vector\n",
      "WARNING:gensim.models.fasttext:could not extract any ngrams from 'iq', returning origin vector\n",
      "WARNING:gensim.models.fasttext:could not extract any ngrams from 'bu', returning origin vector\n",
      "WARNING:gensim.models.fasttext:could not extract any ngrams from 'af', returning origin vector\n",
      "WARNING:gensim.models.fasttext:could not extract any ngrams from 'ao', returning origin vector\n",
      "WARNING:gensim.models.fasttext:could not extract any ngrams from 'ig', returning origin vector\n",
      "WARNING:gensim.models.fasttext:could not extract any ngrams from 'af', returning origin vector\n",
      "WARNING:gensim.models.fasttext:could not extract any ngrams from 'xu', returning origin vector\n",
      "WARNING:gensim.models.fasttext:could not extract any ngrams from 'af', returning origin vector\n",
      "WARNING:gensim.models.fasttext:could not extract any ngrams from 'cu', returning origin vector\n",
      "WARNING:gensim.models.fasttext:could not extract any ngrams from 'je', returning origin vector\n",
      "WARNING:gensim.models.fasttext:could not extract any ngrams from 'ik', returning origin vector\n",
      "WARNING:gensim.models.fasttext:could not extract any ngrams from 'pu', returning origin vector\n",
      "WARNING:gensim.models.fasttext:could not extract any ngrams from 'ga', returning origin vector\n",
      "WARNING:gensim.models.fasttext:could not extract any ngrams from 'ze', returning origin vector\n",
      "WARNING:gensim.models.fasttext:could not extract any ngrams from 'je', returning origin vector\n",
      "WARNING:gensim.models.fasttext:could not extract any ngrams from 'ik', returning origin vector\n",
      "WARNING:gensim.models.fasttext:could not extract any ngrams from 'fu', returning origin vector\n",
      "WARNING:gensim.models.fasttext:could not extract any ngrams from 'ax', returning origin vector\n",
      "WARNING:gensim.models.fasttext:could not extract any ngrams from 'ti', returning origin vector\n",
      "WARNING:gensim.models.fasttext:could not extract any ngrams from 'fa', returning origin vector\n",
      "WARNING:gensim.models.fasttext:could not extract any ngrams from 'fa', returning origin vector\n",
      "WARNING:gensim.models.fasttext:could not extract any ngrams from 'ig', returning origin vector\n",
      "WARNING:gensim.models.fasttext:could not extract any ngrams from 'ap', returning origin vector\n",
      "WARNING:gensim.models.fasttext:could not extract any ngrams from 'pa', returning origin vector\n",
      "WARNING:gensim.models.fasttext:could not extract any ngrams from 'oo', returning origin vector\n",
      "WARNING:gensim.models.fasttext:could not extract any ngrams from 'oo', returning origin vector\n",
      "WARNING:gensim.models.fasttext:could not extract any ngrams from 'ny', returning origin vector\n",
      "WARNING:gensim.models.fasttext:could not extract any ngrams from 'ny', returning origin vector\n",
      "WARNING:gensim.models.fasttext:could not extract any ngrams from 'af', returning origin vector\n",
      "WARNING:gensim.models.fasttext:could not extract any ngrams from 'wo', returning origin vector\n",
      "WARNING:gensim.models.fasttext:could not extract any ngrams from 'ab', returning origin vector\n",
      "WARNING:gensim.models.fasttext:could not extract any ngrams from 'ko', returning origin vector\n",
      "WARNING:gensim.models.fasttext:could not extract any ngrams from 'wu', returning origin vector\n",
      "WARNING:gensim.models.fasttext:could not extract any ngrams from 'yu', returning origin vector\n",
      "WARNING:gensim.models.fasttext:could not extract any ngrams from 'aw', returning origin vector\n",
      "WARNING:gensim.models.fasttext:could not extract any ngrams from 'aw', returning origin vector\n",
      "WARNING:gensim.models.fasttext:could not extract any ngrams from 'ig', returning origin vector\n",
      "WARNING:gensim.models.fasttext:could not extract any ngrams from 'pa', returning origin vector\n",
      "WARNING:gensim.models.fasttext:could not extract any ngrams from 'om', returning origin vector\n",
      "WARNING:gensim.models.fasttext:could not extract any ngrams from 'pe', returning origin vector\n",
      "WARNING:gensim.models.fasttext:could not extract any ngrams from 'ny', returning origin vector\n",
      "WARNING:gensim.models.fasttext:could not extract any ngrams from 'fu', returning origin vector\n",
      "WARNING:gensim.models.fasttext:could not extract any ngrams from 'yu', returning origin vector\n",
      "WARNING:gensim.models.fasttext:could not extract any ngrams from 'fa', returning origin vector\n",
      "WARNING:gensim.models.fasttext:could not extract any ngrams from 'su', returning origin vector\n",
      "WARNING:gensim.models.fasttext:could not extract any ngrams from 'ny', returning origin vector\n",
      "WARNING:gensim.models.fasttext:could not extract any ngrams from 'fu', returning origin vector\n",
      "WARNING:gensim.models.fasttext:could not extract any ngrams from 'po', returning origin vector\n",
      "WARNING:gensim.models.fasttext:could not extract any ngrams from 'aw', returning origin vector\n",
      "WARNING:gensim.models.fasttext:could not extract any ngrams from 'af', returning origin vector\n",
      "WARNING:gensim.models.fasttext:could not extract any ngrams from 'af', returning origin vector\n",
      "WARNING:gensim.models.fasttext:could not extract any ngrams from 'ou', returning origin vector\n",
      "WARNING:gensim.models.fasttext:could not extract any ngrams from 'fu', returning origin vector\n",
      "WARNING:gensim.models.fasttext:could not extract any ngrams from 'ga', returning origin vector\n",
      "WARNING:gensim.models.fasttext:could not extract any ngrams from 'ih', returning origin vector\n",
      "WARNING:gensim.models.fasttext:could not extract any ngrams from 'yu', returning origin vector\n",
      "WARNING:gensim.models.fasttext:could not extract any ngrams from 'yu', returning origin vector\n",
      "WARNING:gensim.models.fasttext:could not extract any ngrams from 'yu', returning origin vector\n",
      "WARNING:gensim.models.fasttext:could not extract any ngrams from 'fu', returning origin vector\n",
      "WARNING:gensim.models.fasttext:could not extract any ngrams from 'af', returning origin vector\n",
      "WARNING:gensim.models.fasttext:could not extract any ngrams from 'wo', returning origin vector\n",
      "WARNING:gensim.models.fasttext:could not extract any ngrams from 'ey', returning origin vector\n",
      "WARNING:gensim.models.fasttext:could not extract any ngrams from 'af', returning origin vector\n",
      "WARNING:gensim.models.fasttext:could not extract any ngrams from 'af', returning origin vector\n",
      "WARNING:gensim.models.fasttext:could not extract any ngrams from 'bo', returning origin vector\n",
      "WARNING:gensim.models.fasttext:could not extract any ngrams from 'ae', returning origin vector\n",
      "WARNING:gensim.models.fasttext:could not extract any ngrams from 'ow', returning origin vector\n",
      "WARNING:gensim.models.fasttext:could not extract any ngrams from 'af', returning origin vector\n",
      "WARNING:gensim.models.fasttext:could not extract any ngrams from 'jo', returning origin vector\n",
      "WARNING:gensim.models.fasttext:could not extract any ngrams from 'yu', returning origin vector\n",
      "WARNING:gensim.models.fasttext:could not extract any ngrams from 'yu', returning origin vector\n",
      "WARNING:gensim.models.fasttext:could not extract any ngrams from 'gi', returning origin vector\n",
      "WARNING:gensim.models.fasttext:could not extract any ngrams from 'iu', returning origin vector\n",
      "WARNING:gensim.models.fasttext:could not extract any ngrams from 'yu', returning origin vector\n",
      "WARNING:gensim.models.fasttext:could not extract any ngrams from 'az', returning origin vector\n",
      "WARNING:gensim.models.fasttext:could not extract any ngrams from 'oy', returning origin vector\n",
      "WARNING:gensim.models.fasttext:could not extract any ngrams from 'pa', returning origin vector\n",
      "WARNING:gensim.models.fasttext:could not extract any ngrams from 'af', returning origin vector\n",
      "WARNING:gensim.models.fasttext:could not extract any ngrams from 'af', returning origin vector\n",
      "WARNING:gensim.models.fasttext:could not extract any ngrams from 'ta', returning origin vector\n",
      "WARNING:gensim.models.fasttext:could not extract any ngrams from 'fu', returning origin vector\n",
      "WARNING:gensim.models.fasttext:could not extract any ngrams from 'ti', returning origin vector\n",
      "WARNING:gensim.models.fasttext:could not extract any ngrams from 'ny', returning origin vector\n",
      "WARNING:gensim.models.fasttext:could not extract any ngrams from 'yu', returning origin vector\n",
      "WARNING:gensim.models.fasttext:could not extract any ngrams from 'gi', returning origin vector\n",
      "WARNING:gensim.models.fasttext:could not extract any ngrams from 'wi', returning origin vector\n",
      "WARNING:gensim.models.fasttext:could not extract any ngrams from 'fu', returning origin vector\n",
      "WARNING:gensim.models.fasttext:could not extract any ngrams from 'fa', returning origin vector\n",
      "WARNING:gensim.models.fasttext:could not extract any ngrams from 'cu', returning origin vector\n",
      "WARNING:gensim.models.fasttext:could not extract any ngrams from 'yu', returning origin vector\n",
      "WARNING:gensim.models.fasttext:could not extract any ngrams from 'ay', returning origin vector\n",
      "WARNING:gensim.models.fasttext:could not extract any ngrams from 'ko', returning origin vector\n",
      "WARNING:gensim.models.fasttext:could not extract any ngrams from 'ko', returning origin vector\n",
      "WARNING:gensim.models.fasttext:could not extract any ngrams from 'ag', returning origin vector\n",
      "WARNING:gensim.models.fasttext:could not extract any ngrams from 'fi', returning origin vector\n",
      "WARNING:gensim.models.fasttext:could not extract any ngrams from 'af', returning origin vector\n",
      "WARNING:gensim.models.fasttext:could not extract any ngrams from 'fo', returning origin vector\n",
      "WARNING:gensim.models.fasttext:could not extract any ngrams from 'fu', returning origin vector\n",
      "WARNING:gensim.models.fasttext:could not extract any ngrams from 'ny', returning origin vector\n",
      "WARNING:gensim.models.fasttext:could not extract any ngrams from 'ti', returning origin vector\n",
      "WARNING:gensim.models.fasttext:could not extract any ngrams from 'ov', returning origin vector\n",
      "WARNING:gensim.models.fasttext:could not extract any ngrams from 'bi', returning origin vector\n",
      "WARNING:gensim.models.fasttext:could not extract any ngrams from 'af', returning origin vector\n",
      "WARNING:gensim.models.fasttext:could not extract any ngrams from 'ig', returning origin vector\n",
      "WARNING:gensim.models.fasttext:could not extract any ngrams from 'ba', returning origin vector\n",
      "WARNING:gensim.models.fasttext:could not extract any ngrams from 'ez', returning origin vector\n",
      "WARNING:gensim.models.fasttext:could not extract any ngrams from 'ik', returning origin vector\n",
      "WARNING:gensim.models.fasttext:could not extract any ngrams from 'iz', returning origin vector\n",
      "WARNING:gensim.models.fasttext:could not extract any ngrams from 'ab', returning origin vector\n",
      "WARNING:gensim.models.fasttext:could not extract any ngrams from 'yu', returning origin vector\n",
      "WARNING:gensim.models.fasttext:could not extract any ngrams from 'ga', returning origin vector\n",
      "WARNING:gensim.models.fasttext:could not extract any ngrams from 'ju', returning origin vector\n",
      "WARNING:gensim.models.fasttext:could not extract any ngrams from 'ig', returning origin vector\n",
      "WARNING:gensim.models.fasttext:could not extract any ngrams from 'fu', returning origin vector\n",
      "WARNING:gensim.models.fasttext:could not extract any ngrams from 'yu', returning origin vector\n",
      "WARNING:gensim.models.fasttext:could not extract any ngrams from 'og', returning origin vector\n",
      "WARNING:gensim.models.fasttext:could not extract any ngrams from 'yu', returning origin vector\n",
      "WARNING:gensim.models.fasttext:could not extract any ngrams from 'dy', returning origin vector\n",
      "WARNING:gensim.models.fasttext:could not extract any ngrams from 'ae', returning origin vector\n",
      "WARNING:gensim.models.fasttext:could not extract any ngrams from 'wi', returning origin vector\n",
      "WARNING:gensim.models.fasttext:could not extract any ngrams from 'ap', returning origin vector\n",
      "WARNING:gensim.models.fasttext:could not extract any ngrams from 'ap', returning origin vector\n",
      "WARNING:gensim.models.fasttext:could not extract any ngrams from 'fu', returning origin vector\n",
      "WARNING:gensim.models.fasttext:could not extract any ngrams from 'af', returning origin vector\n",
      "WARNING:gensim.models.fasttext:could not extract any ngrams from 'pu', returning origin vector\n",
      "WARNING:gensim.models.fasttext:could not extract any ngrams from 'ik', returning origin vector\n",
      "WARNING:gensim.models.fasttext:could not extract any ngrams from 'yu', returning origin vector\n",
      "WARNING:gensim.models.fasttext:could not extract any ngrams from 'yu', returning origin vector\n",
      "WARNING:gensim.models.fasttext:could not extract any ngrams from 'ai', returning origin vector\n",
      "WARNING:gensim.models.fasttext:could not extract any ngrams from 'ab', returning origin vector\n",
      "WARNING:gensim.models.fasttext:could not extract any ngrams from 'ny', returning origin vector\n",
      "WARNING:gensim.models.fasttext:could not extract any ngrams from 'af', returning origin vector\n",
      "WARNING:gensim.models.fasttext:could not extract any ngrams from 'ik', returning origin vector\n",
      "WARNING:gensim.models.fasttext:could not extract any ngrams from 'ig', returning origin vector\n",
      "WARNING:gensim.models.fasttext:could not extract any ngrams from 'dy', returning origin vector\n",
      "WARNING:gensim.models.fasttext:could not extract any ngrams from 'yu', returning origin vector\n",
      "WARNING:gensim.models.fasttext:could not extract any ngrams from 'cu', returning origin vector\n",
      "WARNING:gensim.models.fasttext:could not extract any ngrams from 'bu', returning origin vector\n",
      "WARNING:gensim.models.fasttext:could not extract any ngrams from 'yu', returning origin vector\n",
      "WARNING:gensim.models.fasttext:could not extract any ngrams from 'iu', returning origin vector\n",
      "WARNING:gensim.models.fasttext:could not extract any ngrams from 'aw', returning origin vector\n",
      "WARNING:gensim.models.fasttext:could not extract any ngrams from 'fo', returning origin vector\n",
      "WARNING:gensim.models.fasttext:could not extract any ngrams from 'fo', returning origin vector\n",
      "WARNING:gensim.models.fasttext:could not extract any ngrams from 'ba', returning origin vector\n",
      "WARNING:gensim.models.fasttext:could not extract any ngrams from 'ig', returning origin vector\n",
      "WARNING:gensim.models.fasttext:could not extract any ngrams from 'fo', returning origin vector\n",
      "WARNING:gensim.models.fasttext:could not extract any ngrams from 'af', returning origin vector\n",
      "WARNING:gensim.models.fasttext:could not extract any ngrams from 'af', returning origin vector\n",
      "WARNING:gensim.models.fasttext:could not extract any ngrams from 'su', returning origin vector\n",
      "WARNING:gensim.models.fasttext:could not extract any ngrams from 'fa', returning origin vector\n",
      "WARNING:gensim.models.fasttext:could not extract any ngrams from 'fa', returning origin vector\n",
      "WARNING:gensim.models.fasttext:could not extract any ngrams from 'og', returning origin vector\n",
      "WARNING:gensim.models.fasttext:could not extract any ngrams from 'yu', returning origin vector\n",
      "WARNING:gensim.models.fasttext:could not extract any ngrams from 'fa', returning origin vector\n",
      "WARNING:gensim.models.fasttext:could not extract any ngrams from 'ko', returning origin vector\n",
      "WARNING:gensim.models.fasttext:could not extract any ngrams from 'tu', returning origin vector\n",
      "WARNING:gensim.models.fasttext:could not extract any ngrams from 'af', returning origin vector\n",
      "WARNING:gensim.models.fasttext:could not extract any ngrams from 'cu', returning origin vector\n",
      "WARNING:gensim.models.fasttext:could not extract any ngrams from 'aw', returning origin vector\n",
      "WARNING:gensim.models.fasttext:could not extract any ngrams from 'ig', returning origin vector\n",
      "WARNING:gensim.models.fasttext:could not extract any ngrams from 'od', returning origin vector\n",
      "WARNING:gensim.models.fasttext:could not extract any ngrams from 'yu', returning origin vector\n",
      "WARNING:gensim.models.fasttext:could not extract any ngrams from 'aw', returning origin vector\n",
      "WARNING:gensim.models.fasttext:could not extract any ngrams from 'ta', returning origin vector\n",
      "WARNING:gensim.models.fasttext:could not extract any ngrams from 'su', returning origin vector\n",
      "WARNING:gensim.models.fasttext:could not extract any ngrams from 'va', returning origin vector\n",
      "WARNING:gensim.models.fasttext:could not extract any ngrams from 'xu', returning origin vector\n",
      "WARNING:gensim.models.fasttext:could not extract any ngrams from 'bi', returning origin vector\n",
      "WARNING:gensim.models.fasttext:could not extract any ngrams from 'yu', returning origin vector\n",
      "WARNING:gensim.models.fasttext:could not extract any ngrams from 'yu', returning origin vector\n",
      "WARNING:gensim.models.fasttext:could not extract any ngrams from 'oi', returning origin vector\n",
      "WARNING:gensim.models.fasttext:could not extract any ngrams from 'ab', returning origin vector\n",
      "WARNING:gensim.models.fasttext:could not extract any ngrams from 'cu', returning origin vector\n",
      "WARNING:gensim.models.fasttext:could not extract any ngrams from 'yu', returning origin vector\n",
      "WARNING:gensim.models.fasttext:could not extract any ngrams from 'af', returning origin vector\n",
      "WARNING:gensim.models.fasttext:could not extract any ngrams from 'ti', returning origin vector\n",
      "WARNING:gensim.models.fasttext:could not extract any ngrams from 'fa', returning origin vector\n",
      "WARNING:gensim.models.fasttext:could not extract any ngrams from 'ga', returning origin vector\n",
      "WARNING:gensim.models.fasttext:could not extract any ngrams from 'yu', returning origin vector\n",
      "WARNING:gensim.models.fasttext:could not extract any ngrams from 'ap', returning origin vector\n",
      "WARNING:gensim.models.fasttext:could not extract any ngrams from 'af', returning origin vector\n",
      "WARNING:gensim.models.fasttext:could not extract any ngrams from 'cu', returning origin vector\n",
      "WARNING:gensim.models.fasttext:could not extract any ngrams from 'yu', returning origin vector\n",
      "WARNING:gensim.models.fasttext:could not extract any ngrams from 'yu', returning origin vector\n",
      "WARNING:gensim.models.fasttext:could not extract any ngrams from 'cu', returning origin vector\n",
      "WARNING:gensim.models.fasttext:could not extract any ngrams from 'ig', returning origin vector\n",
      "WARNING:gensim.models.fasttext:could not extract any ngrams from 'fu', returning origin vector\n",
      "WARNING:gensim.models.fasttext:could not extract any ngrams from 'vi', returning origin vector\n",
      "WARNING:gensim.models.fasttext:could not extract any ngrams from 'af', returning origin vector\n",
      "WARNING:gensim.models.fasttext:could not extract any ngrams from 'ga', returning origin vector\n",
      "WARNING:gensim.models.fasttext:could not extract any ngrams from 'tu', returning origin vector\n",
      "WARNING:gensim.models.fasttext:could not extract any ngrams from 'af', returning origin vector\n",
      "WARNING:gensim.models.fasttext:could not extract any ngrams from 'af', returning origin vector\n",
      "WARNING:gensim.models.fasttext:could not extract any ngrams from 'ag', returning origin vector\n",
      "WARNING:gensim.models.fasttext:could not extract any ngrams from 'yu', returning origin vector\n",
      "WARNING:gensim.models.fasttext:could not extract any ngrams from 'ig', returning origin vector\n",
      "WARNING:gensim.models.fasttext:could not extract any ngrams from 'af', returning origin vector\n",
      "WARNING:gensim.models.fasttext:could not extract any ngrams from 'fo', returning origin vector\n",
      "WARNING:gensim.models.fasttext:could not extract any ngrams from 'zo', returning origin vector\n",
      "WARNING:gensim.models.fasttext:could not extract any ngrams from 'fo', returning origin vector\n",
      "WARNING:gensim.models.fasttext:could not extract any ngrams from 'cu', returning origin vector\n",
      "WARNING:gensim.models.fasttext:could not extract any ngrams from 'af', returning origin vector\n",
      "WARNING:gensim.models.fasttext:could not extract any ngrams from 'ta', returning origin vector\n",
      "WARNING:gensim.models.fasttext:could not extract any ngrams from 'ga', returning origin vector\n",
      "WARNING:gensim.models.fasttext:could not extract any ngrams from 'bu', returning origin vector\n",
      "WARNING:gensim.models.fasttext:could not extract any ngrams from 'iz', returning origin vector\n",
      "WARNING:gensim.models.fasttext:could not extract any ngrams from 'af', returning origin vector\n",
      "WARNING:gensim.models.fasttext:could not extract any ngrams from 'ab', returning origin vector\n",
      "WARNING:gensim.models.fasttext:could not extract any ngrams from 'iu', returning origin vector\n",
      "WARNING:gensim.models.fasttext:could not extract any ngrams from 'io', returning origin vector\n",
      "WARNING:gensim.models.fasttext:could not extract any ngrams from 'af', returning origin vector\n",
      "WARNING:gensim.models.fasttext:could not extract any ngrams from 'ge', returning origin vector\n",
      "WARNING:gensim.models.fasttext:could not extract any ngrams from 'fa', returning origin vector\n",
      "WARNING:gensim.models.fasttext:could not extract any ngrams from 'ig', returning origin vector\n",
      "WARNING:gensim.models.fasttext:could not extract any ngrams from 'ny', returning origin vector\n",
      "WARNING:gensim.models.fasttext:could not extract any ngrams from 'ak', returning origin vector\n",
      "WARNING:gensim.models.fasttext:could not extract any ngrams from 'yu', returning origin vector\n",
      "WARNING:gensim.models.fasttext:could not extract any ngrams from 'iq', returning origin vector\n",
      "WARNING:gensim.models.fasttext:could not extract any ngrams from 'ik', returning origin vector\n",
      "WARNING:gensim.models.fasttext:could not extract any ngrams from 'af', returning origin vector\n",
      "WARNING:gensim.models.fasttext:could not extract any ngrams from 'ge', returning origin vector\n",
      "WARNING:gensim.models.fasttext:could not extract any ngrams from 'ke', returning origin vector\n",
      "WARNING:gensim.models.fasttext:could not extract any ngrams from 'ri', returning origin vector\n",
      "WARNING:gensim.models.fasttext:could not extract any ngrams from 'ee', returning origin vector\n",
      "WARNING:gensim.models.fasttext:could not extract any ngrams from 'af', returning origin vector\n",
      "WARNING:gensim.models.fasttext:could not extract any ngrams from 'yu', returning origin vector\n",
      "WARNING:gensim.models.fasttext:could not extract any ngrams from 'od', returning origin vector\n",
      "WARNING:gensim.models.fasttext:could not extract any ngrams from 'af', returning origin vector\n",
      "WARNING:gensim.models.fasttext:could not extract any ngrams from 'cu', returning origin vector\n",
      "WARNING:gensim.models.fasttext:could not extract any ngrams from 'ga', returning origin vector\n",
      "WARNING:gensim.models.fasttext:could not extract any ngrams from 'ax', returning origin vector\n",
      "WARNING:gensim.models.fasttext:could not extract any ngrams from 'af', returning origin vector\n",
      "WARNING:gensim.models.fasttext:could not extract any ngrams from 'fo', returning origin vector\n",
      "WARNING:gensim.models.fasttext:could not extract any ngrams from 'fo', returning origin vector\n",
      "WARNING:gensim.models.fasttext:could not extract any ngrams from 'uv', returning origin vector\n",
      "WARNING:gensim.models.fasttext:could not extract any ngrams from 'fu', returning origin vector\n",
      "WARNING:gensim.models.fasttext:could not extract any ngrams from 'ke', returning origin vector\n",
      "WARNING:gensim.models.fasttext:could not extract any ngrams from 'ay', returning origin vector\n",
      "WARNING:gensim.models.fasttext:could not extract any ngrams from 'ta', returning origin vector\n",
      "WARNING:gensim.models.fasttext:could not extract any ngrams from 'aw', returning origin vector\n",
      "WARNING:gensim.models.fasttext:could not extract any ngrams from 'az', returning origin vector\n",
      "WARNING:gensim.models.fasttext:could not extract any ngrams from 'ay', returning origin vector\n",
      "WARNING:gensim.models.fasttext:could not extract any ngrams from 'az', returning origin vector\n",
      "WARNING:gensim.models.fasttext:could not extract any ngrams from 'af', returning origin vector\n",
      "WARNING:gensim.models.fasttext:could not extract any ngrams from 'aw', returning origin vector\n",
      "WARNING:gensim.models.fasttext:could not extract any ngrams from 'fa', returning origin vector\n",
      "WARNING:gensim.models.fasttext:could not extract any ngrams from 'af', returning origin vector\n",
      "WARNING:gensim.models.fasttext:could not extract any ngrams from 'ow', returning origin vector\n",
      "WARNING:gensim.models.fasttext:could not extract any ngrams from 'fa', returning origin vector\n",
      "WARNING:gensim.models.fasttext:could not extract any ngrams from 'og', returning origin vector\n",
      "WARNING:gensim.models.fasttext:could not extract any ngrams from 'cu', returning origin vector\n",
      "WARNING:gensim.models.fasttext:could not extract any ngrams from 'oo', returning origin vector\n",
      "WARNING:gensim.models.fasttext:could not extract any ngrams from 'og', returning origin vector\n",
      "WARNING:gensim.models.fasttext:could not extract any ngrams from 'af', returning origin vector\n",
      "WARNING:gensim.models.fasttext:could not extract any ngrams from 'ni', returning origin vector\n",
      "WARNING:gensim.models.fasttext:could not extract any ngrams from 'ta', returning origin vector\n",
      "WARNING:gensim.models.fasttext:could not extract any ngrams from 'ny', returning origin vector\n",
      "WARNING:gensim.models.fasttext:could not extract any ngrams from 'iu', returning origin vector\n",
      "WARNING:gensim.models.fasttext:could not extract any ngrams from 'wo', returning origin vector\n",
      "WARNING:gensim.models.fasttext:could not extract any ngrams from 'po', returning origin vector\n",
      "WARNING:gensim.models.fasttext:could not extract any ngrams from 'af', returning origin vector\n",
      "WARNING:gensim.models.fasttext:could not extract any ngrams from 'ig', returning origin vector\n",
      "WARNING:gensim.models.fasttext:could not extract any ngrams from 'ga', returning origin vector\n",
      "WARNING:gensim.models.fasttext:could not extract any ngrams from 'ko', returning origin vector\n",
      "WARNING:gensim.models.fasttext:could not extract any ngrams from 'po', returning origin vector\n",
      "WARNING:gensim.models.fasttext:could not extract any ngrams from 'po', returning origin vector\n",
      "WARNING:gensim.models.fasttext:could not extract any ngrams from 'po', returning origin vector\n",
      "WARNING:gensim.models.fasttext:could not extract any ngrams from 'po', returning origin vector\n",
      "WARNING:gensim.models.fasttext:could not extract any ngrams from 'ud', returning origin vector\n",
      "WARNING:gensim.models.fasttext:could not extract any ngrams from 'ud', returning origin vector\n",
      "WARNING:gensim.models.fasttext:could not extract any ngrams from 'ud', returning origin vector\n",
      "WARNING:gensim.models.fasttext:could not extract any ngrams from 'ud', returning origin vector\n",
      "WARNING:gensim.models.fasttext:could not extract any ngrams from 'ud', returning origin vector\n",
      "WARNING:gensim.models.fasttext:could not extract any ngrams from 'ud', returning origin vector\n",
      "WARNING:gensim.models.fasttext:could not extract any ngrams from 'fu', returning origin vector\n",
      "WARNING:gensim.models.fasttext:could not extract any ngrams from 'fu', returning origin vector\n",
      "WARNING:gensim.models.fasttext:could not extract any ngrams from 'fu', returning origin vector\n",
      "WARNING:gensim.models.fasttext:could not extract any ngrams from 'fu', returning origin vector\n",
      "WARNING:gensim.models.fasttext:could not extract any ngrams from 'fu', returning origin vector\n",
      "WARNING:gensim.models.fasttext:could not extract any ngrams from 'fu', returning origin vector\n",
      "WARNING:gensim.models.fasttext:could not extract any ngrams from 'af', returning origin vector\n",
      "WARNING:gensim.models.fasttext:could not extract any ngrams from 'af', returning origin vector\n",
      "WARNING:gensim.models.fasttext:could not extract any ngrams from 'af', returning origin vector\n",
      "WARNING:gensim.models.fasttext:could not extract any ngrams from 'af', returning origin vector\n",
      "WARNING:gensim.models.fasttext:could not extract any ngrams from 'af', returning origin vector\n",
      "WARNING:gensim.models.fasttext:could not extract any ngrams from 'af', returning origin vector\n",
      "WARNING:gensim.models.fasttext:could not extract any ngrams from 'af', returning origin vector\n",
      "WARNING:gensim.models.fasttext:could not extract any ngrams from 'af', returning origin vector\n",
      "WARNING:gensim.models.fasttext:could not extract any ngrams from 'af', returning origin vector\n",
      "WARNING:gensim.models.fasttext:could not extract any ngrams from 'af', returning origin vector\n",
      "WARNING:gensim.models.fasttext:could not extract any ngrams from 'af', returning origin vector\n",
      "WARNING:gensim.models.fasttext:could not extract any ngrams from 'af', returning origin vector\n",
      "WARNING:gensim.models.fasttext:could not extract any ngrams from 'uf', returning origin vector\n",
      "WARNING:gensim.models.fasttext:could not extract any ngrams from 'fu', returning origin vector\n",
      "WARNING:gensim.models.fasttext:could not extract any ngrams from 'uf', returning origin vector\n",
      "WARNING:gensim.models.fasttext:could not extract any ngrams from 'fu', returning origin vector\n",
      "WARNING:gensim.models.fasttext:could not extract any ngrams from 'uf', returning origin vector\n",
      "WARNING:gensim.models.fasttext:could not extract any ngrams from 'fu', returning origin vector\n",
      "WARNING:gensim.models.fasttext:could not extract any ngrams from 'uf', returning origin vector\n",
      "WARNING:gensim.models.fasttext:could not extract any ngrams from 'fu', returning origin vector\n",
      "WARNING:gensim.models.fasttext:could not extract any ngrams from 'uf', returning origin vector\n",
      "WARNING:gensim.models.fasttext:could not extract any ngrams from 'fu', returning origin vector\n",
      "WARNING:gensim.models.fasttext:could not extract any ngrams from 'uf', returning origin vector\n",
      "WARNING:gensim.models.fasttext:could not extract any ngrams from 'fu', returning origin vector\n",
      "WARNING:gensim.models.fasttext:could not extract any ngrams from 'xl', returning origin vector\n",
      "WARNING:gensim.models.fasttext:could not extract any ngrams from 'ig', returning origin vector\n",
      "WARNING:gensim.models.fasttext:could not extract any ngrams from 'ig', returning origin vector\n",
      "WARNING:gensim.models.fasttext:could not extract any ngrams from 'ig', returning origin vector\n",
      "WARNING:gensim.models.fasttext:could not extract any ngrams from 'fu', returning origin vector\n",
      "WARNING:gensim.models.fasttext:could not extract any ngrams from 'fu', returning origin vector\n",
      "WARNING:gensim.models.fasttext:could not extract any ngrams from 'fu', returning origin vector\n",
      "WARNING:gensim.models.fasttext:could not extract any ngrams from 'fu', returning origin vector\n",
      "WARNING:gensim.models.fasttext:could not extract any ngrams from 'fu', returning origin vector\n",
      "WARNING:gensim.models.fasttext:could not extract any ngrams from 'fu', returning origin vector\n",
      "WARNING:gensim.models.fasttext:could not extract any ngrams from 'ko', returning origin vector\n",
      "WARNING:gensim.models.fasttext:could not extract any ngrams from 'ta', returning origin vector\n",
      "WARNING:gensim.models.fasttext:could not extract any ngrams from 'ta', returning origin vector\n",
      "WARNING:gensim.models.fasttext:could not extract any ngrams from 'ta', returning origin vector\n",
      "WARNING:gensim.models.fasttext:could not extract any ngrams from 'ta', returning origin vector\n",
      "WARNING:gensim.models.fasttext:could not extract any ngrams from 'ta', returning origin vector\n",
      "WARNING:gensim.models.fasttext:could not extract any ngrams from 'ta', returning origin vector\n",
      "WARNING:gensim.models.fasttext:could not extract any ngrams from 'bi', returning origin vector\n",
      "WARNING:gensim.models.fasttext:could not extract any ngrams from 'bi', returning origin vector\n",
      "WARNING:gensim.models.fasttext:could not extract any ngrams from 'bi', returning origin vector\n",
      "WARNING:gensim.models.fasttext:could not extract any ngrams from 'bi', returning origin vector\n",
      "WARNING:gensim.models.fasttext:could not extract any ngrams from 'bi', returning origin vector\n",
      "WARNING:gensim.models.fasttext:could not extract any ngrams from 'bi', returning origin vector\n",
      "WARNING:gensim.models.fasttext:could not extract any ngrams from 'jr', returning origin vector\n",
      "WARNING:gensim.models.fasttext:could not extract any ngrams from 'fo', returning origin vector\n",
      "WARNING:gensim.models.fasttext:could not extract any ngrams from 'fo', returning origin vector\n",
      "WARNING:gensim.models.fasttext:could not extract any ngrams from 'fo', returning origin vector\n",
      "WARNING:gensim.models.fasttext:could not extract any ngrams from 'fo', returning origin vector\n",
      "WARNING:gensim.models.fasttext:could not extract any ngrams from 'fo', returning origin vector\n",
      "WARNING:gensim.models.fasttext:could not extract any ngrams from 'fo', returning origin vector\n",
      "WARNING:gensim.models.fasttext:could not extract any ngrams from 'af', returning origin vector\n",
      "WARNING:gensim.models.fasttext:could not extract any ngrams from 'af', returning origin vector\n",
      "WARNING:gensim.models.fasttext:could not extract any ngrams from 'af', returning origin vector\n",
      "WARNING:gensim.models.fasttext:could not extract any ngrams from 'af', returning origin vector\n",
      "WARNING:gensim.models.fasttext:could not extract any ngrams from 'af', returning origin vector\n",
      "WARNING:gensim.models.fasttext:could not extract any ngrams from 'af', returning origin vector\n",
      "WARNING:gensim.models.fasttext:could not extract any ngrams from 'ou', returning origin vector\n",
      "WARNING:gensim.models.fasttext:could not extract any ngrams from 'ou', returning origin vector\n",
      "WARNING:gensim.models.fasttext:could not extract any ngrams from 'ou', returning origin vector\n",
      "WARNING:gensim.models.fasttext:could not extract any ngrams from 'ou', returning origin vector\n",
      "WARNING:gensim.models.fasttext:could not extract any ngrams from 'ou', returning origin vector\n",
      "WARNING:gensim.models.fasttext:could not extract any ngrams from 'ou', returning origin vector\n",
      "WARNING:gensim.models.fasttext:could not extract any ngrams from 'wu', returning origin vector\n",
      "WARNING:gensim.models.fasttext:could not extract any ngrams from 'wu', returning origin vector\n",
      "WARNING:gensim.models.fasttext:could not extract any ngrams from 'wu', returning origin vector\n",
      "WARNING:gensim.models.fasttext:could not extract any ngrams from 'wu', returning origin vector\n",
      "WARNING:gensim.models.fasttext:could not extract any ngrams from 'wu', returning origin vector\n",
      "WARNING:gensim.models.fasttext:could not extract any ngrams from 'ko', returning origin vector\n",
      "WARNING:gensim.models.fasttext:could not extract any ngrams from 'af', returning origin vector\n",
      "WARNING:gensim.models.fasttext:could not extract any ngrams from 'af', returning origin vector\n",
      "WARNING:gensim.models.fasttext:could not extract any ngrams from 'af', returning origin vector\n",
      "WARNING:gensim.models.fasttext:could not extract any ngrams from 'af', returning origin vector\n",
      "WARNING:gensim.models.fasttext:could not extract any ngrams from 'af', returning origin vector\n",
      "WARNING:gensim.models.fasttext:could not extract any ngrams from 'af', returning origin vector\n",
      "WARNING:gensim.models.fasttext:could not extract any ngrams from 'ko', returning origin vector\n",
      "WARNING:gensim.models.fasttext:could not extract any ngrams from 'ew', returning origin vector\n",
      "WARNING:gensim.models.fasttext:could not extract any ngrams from 'ew', returning origin vector\n",
      "WARNING:gensim.models.fasttext:could not extract any ngrams from 'ew', returning origin vector\n",
      "WARNING:gensim.models.fasttext:could not extract any ngrams from 'ew', returning origin vector\n",
      "WARNING:gensim.models.fasttext:could not extract any ngrams from 'ew', returning origin vector\n",
      "WARNING:gensim.models.fasttext:could not extract any ngrams from 'aw', returning origin vector\n",
      "WARNING:gensim.models.fasttext:could not extract any ngrams from 'aw', returning origin vector\n",
      "WARNING:gensim.models.fasttext:could not extract any ngrams from 'aw', returning origin vector\n",
      "WARNING:gensim.models.fasttext:could not extract any ngrams from 'aw', returning origin vector\n",
      "WARNING:gensim.models.fasttext:could not extract any ngrams from 'aw', returning origin vector\n",
      "WARNING:gensim.models.fasttext:could not extract any ngrams from 'aw', returning origin vector\n",
      "WARNING:gensim.models.fasttext:could not extract any ngrams from 'jr', returning origin vector\n",
      "WARNING:gensim.models.fasttext:could not extract any ngrams from 'wi', returning origin vector\n",
      "WARNING:gensim.models.fasttext:could not extract any ngrams from 'wi', returning origin vector\n",
      "WARNING:gensim.models.fasttext:could not extract any ngrams from 'wi', returning origin vector\n",
      "WARNING:gensim.models.fasttext:could not extract any ngrams from 'wi', returning origin vector\n",
      "WARNING:gensim.models.fasttext:could not extract any ngrams from 'wi', returning origin vector\n",
      "WARNING:gensim.models.fasttext:could not extract any ngrams from 'wi', returning origin vector\n",
      "WARNING:gensim.models.fasttext:could not extract any ngrams from 'fo', returning origin vector\n",
      "WARNING:gensim.models.fasttext:could not extract any ngrams from 'fo', returning origin vector\n",
      "WARNING:gensim.models.fasttext:could not extract any ngrams from 'fo', returning origin vector\n",
      "WARNING:gensim.models.fasttext:could not extract any ngrams from 'fo', returning origin vector\n",
      "WARNING:gensim.models.fasttext:could not extract any ngrams from 'pa', returning origin vector\n",
      "WARNING:gensim.models.fasttext:could not extract any ngrams from 'ew', returning origin vector\n",
      "WARNING:gensim.models.fasttext:could not extract any ngrams from 'ew', returning origin vector\n",
      "WARNING:gensim.models.fasttext:could not extract any ngrams from 'ew', returning origin vector\n",
      "WARNING:gensim.models.fasttext:could not extract any ngrams from 'ko', returning origin vector\n",
      "WARNING:gensim.models.fasttext:could not extract any ngrams from 'xu', returning origin vector\n",
      "WARNING:gensim.models.fasttext:could not extract any ngrams from 'xu', returning origin vector\n",
      "WARNING:gensim.models.fasttext:could not extract any ngrams from 'xu', returning origin vector\n",
      "WARNING:gensim.models.fasttext:could not extract any ngrams from 'xu', returning origin vector\n",
      "WARNING:gensim.models.fasttext:could not extract any ngrams from 'xu', returning origin vector\n",
      "WARNING:gensim.models.fasttext:could not extract any ngrams from 'xu', returning origin vector\n",
      "WARNING:gensim.models.fasttext:could not extract any ngrams from 'cu', returning origin vector\n",
      "WARNING:gensim.models.fasttext:could not extract any ngrams from 'cu', returning origin vector\n",
      "WARNING:gensim.models.fasttext:could not extract any ngrams from 'cu', returning origin vector\n",
      "WARNING:gensim.models.fasttext:could not extract any ngrams from 'cu', returning origin vector\n",
      "WARNING:gensim.models.fasttext:could not extract any ngrams from 'cu', returning origin vector\n",
      "WARNING:gensim.models.fasttext:could not extract any ngrams from 'cu', returning origin vector\n",
      "WARNING:gensim.models.fasttext:could not extract any ngrams from 'jr', returning origin vector\n",
      "WARNING:gensim.models.fasttext:could not extract any ngrams from 'wo', returning origin vector\n",
      "WARNING:gensim.models.fasttext:could not extract any ngrams from 'wo', returning origin vector\n",
      "WARNING:gensim.models.fasttext:could not extract any ngrams from 'wo', returning origin vector\n",
      "WARNING:gensim.models.fasttext:could not extract any ngrams from 'wo', returning origin vector\n",
      "WARNING:gensim.models.fasttext:could not extract any ngrams from 'wo', returning origin vector\n",
      "WARNING:gensim.models.fasttext:could not extract any ngrams from 'wo', returning origin vector\n",
      "WARNING:gensim.models.fasttext:could not extract any ngrams from 'ky', returning origin vector\n",
      "WARNING:gensim.models.fasttext:could not extract any ngrams from 'ky', returning origin vector\n",
      "WARNING:gensim.models.fasttext:could not extract any ngrams from 'ko', returning origin vector\n",
      "WARNING:gensim.models.fasttext:could not extract any ngrams from 'ag', returning origin vector\n",
      "WARNING:gensim.models.fasttext:could not extract any ngrams from 'ag', returning origin vector\n",
      "WARNING:gensim.models.fasttext:could not extract any ngrams from 'ag', returning origin vector\n",
      "WARNING:gensim.models.fasttext:could not extract any ngrams from 'ag', returning origin vector\n",
      "WARNING:gensim.models.fasttext:could not extract any ngrams from 'ag', returning origin vector\n",
      "WARNING:gensim.models.fasttext:could not extract any ngrams from 'ap', returning origin vector\n",
      "WARNING:gensim.models.fasttext:could not extract any ngrams from 'ap', returning origin vector\n",
      "WARNING:gensim.models.fasttext:could not extract any ngrams from 'ap', returning origin vector\n",
      "WARNING:gensim.models.fasttext:could not extract any ngrams from 'ap', returning origin vector\n",
      "WARNING:gensim.models.fasttext:could not extract any ngrams from 'ap', returning origin vector\n",
      "WARNING:gensim.models.fasttext:could not extract any ngrams from 'ap', returning origin vector\n",
      "WARNING:gensim.models.fasttext:could not extract any ngrams from 'ap', returning origin vector\n",
      "WARNING:gensim.models.fasttext:could not extract any ngrams from 'ap', returning origin vector\n",
      "WARNING:gensim.models.fasttext:could not extract any ngrams from 'ap', returning origin vector\n",
      "WARNING:gensim.models.fasttext:could not extract any ngrams from 'ap', returning origin vector\n",
      "WARNING:gensim.models.fasttext:could not extract any ngrams from 'ap', returning origin vector\n",
      "WARNING:gensim.models.fasttext:could not extract any ngrams from 'ap', returning origin vector\n",
      "WARNING:gensim.models.fasttext:could not extract any ngrams from 'ny', returning origin vector\n",
      "WARNING:gensim.models.fasttext:could not extract any ngrams from 'ny', returning origin vector\n",
      "WARNING:gensim.models.fasttext:could not extract any ngrams from 'ny', returning origin vector\n",
      "WARNING:gensim.models.fasttext:could not extract any ngrams from 'ny', returning origin vector\n",
      "WARNING:gensim.models.fasttext:could not extract any ngrams from 'ny', returning origin vector\n",
      "WARNING:gensim.models.fasttext:could not extract any ngrams from 'ny', returning origin vector\n",
      "WARNING:gensim.models.fasttext:could not extract any ngrams from 'af', returning origin vector\n",
      "WARNING:gensim.models.fasttext:could not extract any ngrams from 'af', returning origin vector\n",
      "WARNING:gensim.models.fasttext:could not extract any ngrams from 'af', returning origin vector\n",
      "WARNING:gensim.models.fasttext:could not extract any ngrams from 'af', returning origin vector\n",
      "WARNING:gensim.models.fasttext:could not extract any ngrams from 'af', returning origin vector\n",
      "WARNING:gensim.models.fasttext:could not extract any ngrams from 'af', returning origin vector\n",
      "WARNING:gensim.models.fasttext:could not extract any ngrams from 'fo', returning origin vector\n",
      "WARNING:gensim.models.fasttext:could not extract any ngrams from 'fo', returning origin vector\n",
      "WARNING:gensim.models.fasttext:could not extract any ngrams from 'fo', returning origin vector\n",
      "WARNING:gensim.models.fasttext:could not extract any ngrams from 'fo', returning origin vector\n",
      "WARNING:gensim.models.fasttext:could not extract any ngrams from 'fo', returning origin vector\n",
      "WARNING:gensim.models.fasttext:could not extract any ngrams from 'fo', returning origin vector\n",
      "WARNING:gensim.models.fasttext:could not extract any ngrams from 'ko', returning origin vector\n",
      "WARNING:gensim.models.fasttext:could not extract any ngrams from 'ig', returning origin vector\n",
      "WARNING:gensim.models.fasttext:could not extract any ngrams from 'ig', returning origin vector\n",
      "WARNING:gensim.models.fasttext:could not extract any ngrams from 'ig', returning origin vector\n",
      "WARNING:gensim.models.fasttext:could not extract any ngrams from 'ig', returning origin vector\n",
      "WARNING:gensim.models.fasttext:could not extract any ngrams from 'ig', returning origin vector\n",
      "WARNING:gensim.models.fasttext:could not extract any ngrams from 'ig', returning origin vector\n",
      "WARNING:gensim.models.fasttext:could not extract any ngrams from 'pa', returning origin vector\n",
      "WARNING:gensim.models.fasttext:could not extract any ngrams from 'va', returning origin vector\n",
      "WARNING:gensim.models.fasttext:could not extract any ngrams from 'va', returning origin vector\n",
      "WARNING:gensim.models.fasttext:could not extract any ngrams from 'va', returning origin vector\n",
      "WARNING:gensim.models.fasttext:could not extract any ngrams from 'va', returning origin vector\n",
      "WARNING:gensim.models.fasttext:could not extract any ngrams from 'va', returning origin vector\n",
      "WARNING:gensim.models.fasttext:could not extract any ngrams from 'va', returning origin vector\n",
      "WARNING:gensim.models.fasttext:could not extract any ngrams from 'jr', returning origin vector\n",
      "WARNING:gensim.models.fasttext:could not extract any ngrams from 'ag', returning origin vector\n",
      "WARNING:gensim.models.fasttext:could not extract any ngrams from 'ag', returning origin vector\n",
      "WARNING:gensim.models.fasttext:could not extract any ngrams from 'ag', returning origin vector\n",
      "WARNING:gensim.models.fasttext:could not extract any ngrams from 'ag', returning origin vector\n",
      "WARNING:gensim.models.fasttext:could not extract any ngrams from 'ag', returning origin vector\n",
      "WARNING:gensim.models.fasttext:could not extract any ngrams from 'ag', returning origin vector\n",
      "WARNING:gensim.models.fasttext:could not extract any ngrams from 'af', returning origin vector\n",
      "WARNING:gensim.models.fasttext:could not extract any ngrams from 'af', returning origin vector\n",
      "WARNING:gensim.models.fasttext:could not extract any ngrams from 'af', returning origin vector\n",
      "WARNING:gensim.models.fasttext:could not extract any ngrams from 'af', returning origin vector\n",
      "WARNING:gensim.models.fasttext:could not extract any ngrams from 'af', returning origin vector\n",
      "WARNING:gensim.models.fasttext:could not extract any ngrams from 'af', returning origin vector\n",
      "WARNING:gensim.models.fasttext:could not extract any ngrams from 'yu', returning origin vector\n",
      "WARNING:gensim.models.fasttext:could not extract any ngrams from 'yu', returning origin vector\n",
      "WARNING:gensim.models.fasttext:could not extract any ngrams from 'yu', returning origin vector\n",
      "WARNING:gensim.models.fasttext:could not extract any ngrams from 'yu', returning origin vector\n",
      "WARNING:gensim.models.fasttext:could not extract any ngrams from 'yu', returning origin vector\n",
      "WARNING:gensim.models.fasttext:could not extract any ngrams from 'yu', returning origin vector\n",
      "WARNING:gensim.models.fasttext:could not extract any ngrams from 'fo', returning origin vector\n",
      "WARNING:gensim.models.fasttext:could not extract any ngrams from 'fo', returning origin vector\n",
      "WARNING:gensim.models.fasttext:could not extract any ngrams from 'fo', returning origin vector\n",
      "WARNING:gensim.models.fasttext:could not extract any ngrams from 'fo', returning origin vector\n",
      "WARNING:gensim.models.fasttext:could not extract any ngrams from 'fo', returning origin vector\n",
      "WARNING:gensim.models.fasttext:could not extract any ngrams from 'fo', returning origin vector\n",
      "WARNING:gensim.models.fasttext:could not extract any ngrams from 'af', returning origin vector\n",
      "WARNING:gensim.models.fasttext:could not extract any ngrams from 'af', returning origin vector\n",
      "WARNING:gensim.models.fasttext:could not extract any ngrams from 'af', returning origin vector\n",
      "WARNING:gensim.models.fasttext:could not extract any ngrams from 'af', returning origin vector\n",
      "WARNING:gensim.models.fasttext:could not extract any ngrams from 'af', returning origin vector\n",
      "WARNING:gensim.models.fasttext:could not extract any ngrams from 'af', returning origin vector\n",
      "WARNING:gensim.models.fasttext:could not extract any ngrams from 'ko', returning origin vector\n",
      "WARNING:gensim.models.fasttext:could not extract any ngrams from 'ni', returning origin vector\n",
      "WARNING:gensim.models.fasttext:could not extract any ngrams from 'ni', returning origin vector\n",
      "WARNING:gensim.models.fasttext:could not extract any ngrams from 'ni', returning origin vector\n",
      "WARNING:gensim.models.fasttext:could not extract any ngrams from 'ni', returning origin vector\n",
      "WARNING:gensim.models.fasttext:could not extract any ngrams from 'ni', returning origin vector\n",
      "WARNING:gensim.models.fasttext:could not extract any ngrams from 'ni', returning origin vector\n",
      "WARNING:gensim.models.fasttext:could not extract any ngrams from 'ko', returning origin vector\n"
     ]
    }
   ],
   "source": [
    "wordvec_arrays = np.zeros((len(X_train), 300)) \n",
    "for i in range(len(X_train)):\n",
    "    wordvec_arrays[i,:] = word_vector(X_train[i], 300)"
   ]
  },
  {
   "cell_type": "code",
   "execution_count": 34,
   "metadata": {
    "id": "pTrtoPD1N00s"
   },
   "outputs": [],
   "source": [
    "X_train_vectorized=wordvec_arrays"
   ]
  },
  {
   "cell_type": "code",
   "execution_count": 35,
   "metadata": {
    "colab": {
     "base_uri": "https://localhost:8080/"
    },
    "id": "z24vc0vlOZJ6",
    "outputId": "be987079-01d4-423f-a245-7533dc7c837b"
   },
   "outputs": [
    {
     "name": "stderr",
     "output_type": "stream",
     "text": [
      "WARNING:gensim.models.fasttext:could not extract any ngrams from 'ou', returning origin vector\n",
      "WARNING:gensim.models.fasttext:could not extract any ngrams from 'ny', returning origin vector\n",
      "WARNING:gensim.models.fasttext:could not extract any ngrams from 'ab', returning origin vector\n",
      "WARNING:gensim.models.fasttext:could not extract any ngrams from 'ny', returning origin vector\n",
      "WARNING:gensim.models.fasttext:could not extract any ngrams from 'fu', returning origin vector\n",
      "WARNING:gensim.models.fasttext:could not extract any ngrams from 'af', returning origin vector\n",
      "WARNING:gensim.models.fasttext:could not extract any ngrams from 'pa', returning origin vector\n",
      "WARNING:gensim.models.fasttext:could not extract any ngrams from 'iu', returning origin vector\n",
      "WARNING:gensim.models.fasttext:could not extract any ngrams from 'fo', returning origin vector\n",
      "WARNING:gensim.models.fasttext:could not extract any ngrams from 'ny', returning origin vector\n",
      "WARNING:gensim.models.fasttext:could not extract any ngrams from 'af', returning origin vector\n",
      "WARNING:gensim.models.fasttext:could not extract any ngrams from 'tu', returning origin vector\n",
      "WARNING:gensim.models.fasttext:could not extract any ngrams from 'bi', returning origin vector\n",
      "WARNING:gensim.models.fasttext:could not extract any ngrams from 'tu', returning origin vector\n",
      "WARNING:gensim.models.fasttext:could not extract any ngrams from 'ew', returning origin vector\n",
      "WARNING:gensim.models.fasttext:could not extract any ngrams from 'ny', returning origin vector\n",
      "WARNING:gensim.models.fasttext:could not extract any ngrams from 'az', returning origin vector\n",
      "WARNING:gensim.models.fasttext:could not extract any ngrams from 'ab', returning origin vector\n",
      "WARNING:gensim.models.fasttext:could not extract any ngrams from 'ta', returning origin vector\n",
      "WARNING:gensim.models.fasttext:could not extract any ngrams from 'ew', returning origin vector\n",
      "WARNING:gensim.models.fasttext:could not extract any ngrams from 'aw', returning origin vector\n",
      "WARNING:gensim.models.fasttext:could not extract any ngrams from 'tu', returning origin vector\n",
      "WARNING:gensim.models.fasttext:could not extract any ngrams from 'oo', returning origin vector\n",
      "WARNING:gensim.models.fasttext:could not extract any ngrams from 'ze', returning origin vector\n",
      "WARNING:gensim.models.fasttext:could not extract any ngrams from 'oi', returning origin vector\n",
      "WARNING:gensim.models.fasttext:could not extract any ngrams from 'ik', returning origin vector\n",
      "WARNING:gensim.models.fasttext:could not extract any ngrams from 'ti', returning origin vector\n",
      "WARNING:gensim.models.fasttext:could not extract any ngrams from 'fo', returning origin vector\n",
      "WARNING:gensim.models.fasttext:could not extract any ngrams from 'ge', returning origin vector\n",
      "WARNING:gensim.models.fasttext:could not extract any ngrams from 'ta', returning origin vector\n",
      "WARNING:gensim.models.fasttext:could not extract any ngrams from 'af', returning origin vector\n",
      "WARNING:gensim.models.fasttext:could not extract any ngrams from 'ew', returning origin vector\n",
      "WARNING:gensim.models.fasttext:could not extract any ngrams from 'aw', returning origin vector\n",
      "WARNING:gensim.models.fasttext:could not extract any ngrams from 'fu', returning origin vector\n",
      "WARNING:gensim.models.fasttext:could not extract any ngrams from 'fa', returning origin vector\n",
      "WARNING:gensim.models.fasttext:could not extract any ngrams from 'fu', returning origin vector\n",
      "WARNING:gensim.models.fasttext:could not extract any ngrams from 'af', returning origin vector\n",
      "WARNING:gensim.models.fasttext:could not extract any ngrams from 'qa', returning origin vector\n",
      "WARNING:gensim.models.fasttext:could not extract any ngrams from 'ry', returning origin vector\n",
      "WARNING:gensim.models.fasttext:could not extract any ngrams from 'fo', returning origin vector\n",
      "WARNING:gensim.models.fasttext:could not extract any ngrams from 'bo', returning origin vector\n",
      "WARNING:gensim.models.fasttext:could not extract any ngrams from 'ig', returning origin vector\n",
      "WARNING:gensim.models.fasttext:could not extract any ngrams from 'fa', returning origin vector\n",
      "WARNING:gensim.models.fasttext:could not extract any ngrams from 'fa', returning origin vector\n",
      "WARNING:gensim.models.fasttext:could not extract any ngrams from 'cu', returning origin vector\n",
      "WARNING:gensim.models.fasttext:could not extract any ngrams from 'wi', returning origin vector\n",
      "WARNING:gensim.models.fasttext:could not extract any ngrams from 'pa', returning origin vector\n",
      "WARNING:gensim.models.fasttext:could not extract any ngrams from 'yu', returning origin vector\n",
      "WARNING:gensim.models.fasttext:could not extract any ngrams from 'ep', returning origin vector\n",
      "WARNING:gensim.models.fasttext:could not extract any ngrams from 'ew', returning origin vector\n",
      "WARNING:gensim.models.fasttext:could not extract any ngrams from 'yu', returning origin vector\n",
      "WARNING:gensim.models.fasttext:could not extract any ngrams from 'az', returning origin vector\n",
      "WARNING:gensim.models.fasttext:could not extract any ngrams from 'fa', returning origin vector\n",
      "WARNING:gensim.models.fasttext:could not extract any ngrams from 'az', returning origin vector\n",
      "WARNING:gensim.models.fasttext:could not extract any ngrams from 'ny', returning origin vector\n",
      "WARNING:gensim.models.fasttext:could not extract any ngrams from 'iz', returning origin vector\n",
      "WARNING:gensim.models.fasttext:could not extract any ngrams from 'ap', returning origin vector\n",
      "WARNING:gensim.models.fasttext:could not extract any ngrams from 'fa', returning origin vector\n",
      "WARNING:gensim.models.fasttext:could not extract any ngrams from 'wi', returning origin vector\n",
      "WARNING:gensim.models.fasttext:could not extract any ngrams from 'va', returning origin vector\n",
      "WARNING:gensim.models.fasttext:could not extract any ngrams from 'ce', returning origin vector\n",
      "WARNING:gensim.models.fasttext:could not extract any ngrams from 'ei', returning origin vector\n",
      "WARNING:gensim.models.fasttext:could not extract any ngrams from 'ik', returning origin vector\n",
      "WARNING:gensim.models.fasttext:could not extract any ngrams from 'ob', returning origin vector\n",
      "WARNING:gensim.models.fasttext:could not extract any ngrams from 'iu', returning origin vector\n",
      "WARNING:gensim.models.fasttext:could not extract any ngrams from 'yu', returning origin vector\n",
      "WARNING:gensim.models.fasttext:could not extract any ngrams from 'gi', returning origin vector\n",
      "WARNING:gensim.models.fasttext:could not extract any ngrams from 'og', returning origin vector\n",
      "WARNING:gensim.models.fasttext:could not extract any ngrams from 'ig', returning origin vector\n",
      "WARNING:gensim.models.fasttext:could not extract any ngrams from 'og', returning origin vector\n",
      "WARNING:gensim.models.fasttext:could not extract any ngrams from 'xi', returning origin vector\n",
      "WARNING:gensim.models.fasttext:could not extract any ngrams from 'og', returning origin vector\n",
      "WARNING:gensim.models.fasttext:could not extract any ngrams from 'az', returning origin vector\n",
      "WARNING:gensim.models.fasttext:could not extract any ngrams from 'ig', returning origin vector\n",
      "WARNING:gensim.models.fasttext:could not extract any ngrams from 'yu', returning origin vector\n",
      "WARNING:gensim.models.fasttext:could not extract any ngrams from 'fu', returning origin vector\n",
      "WARNING:gensim.models.fasttext:could not extract any ngrams from 'ig', returning origin vector\n",
      "WARNING:gensim.models.fasttext:could not extract any ngrams from 'po', returning origin vector\n",
      "WARNING:gensim.models.fasttext:could not extract any ngrams from 'fo', returning origin vector\n",
      "WARNING:gensim.models.fasttext:could not extract any ngrams from 'fa', returning origin vector\n",
      "WARNING:gensim.models.fasttext:could not extract any ngrams from 'bo', returning origin vector\n",
      "WARNING:gensim.models.fasttext:could not extract any ngrams from 'ig', returning origin vector\n",
      "WARNING:gensim.models.fasttext:could not extract any ngrams from 'ta', returning origin vector\n",
      "WARNING:gensim.models.fasttext:could not extract any ngrams from 'ta', returning origin vector\n",
      "WARNING:gensim.models.fasttext:could not extract any ngrams from 'bo', returning origin vector\n",
      "WARNING:gensim.models.fasttext:could not extract any ngrams from 'bo', returning origin vector\n",
      "WARNING:gensim.models.fasttext:could not extract any ngrams from 'io', returning origin vector\n",
      "WARNING:gensim.models.fasttext:could not extract any ngrams from 'io', returning origin vector\n",
      "WARNING:gensim.models.fasttext:could not extract any ngrams from 'pe', returning origin vector\n",
      "WARNING:gensim.models.fasttext:could not extract any ngrams from 'oo', returning origin vector\n",
      "WARNING:gensim.models.fasttext:could not extract any ngrams from 'oo', returning origin vector\n",
      "WARNING:gensim.models.fasttext:could not extract any ngrams from 'oo', returning origin vector\n",
      "WARNING:gensim.models.fasttext:could not extract any ngrams from 'ig', returning origin vector\n",
      "WARNING:gensim.models.fasttext:could not extract any ngrams from 'fo', returning origin vector\n",
      "WARNING:gensim.models.fasttext:could not extract any ngrams from 'iu', returning origin vector\n",
      "WARNING:gensim.models.fasttext:could not extract any ngrams from 'ti', returning origin vector\n",
      "WARNING:gensim.models.fasttext:could not extract any ngrams from 'fa', returning origin vector\n",
      "WARNING:gensim.models.fasttext:could not extract any ngrams from 'ja', returning origin vector\n",
      "WARNING:gensim.models.fasttext:could not extract any ngrams from 'zo', returning origin vector\n",
      "WARNING:gensim.models.fasttext:could not extract any ngrams from 'je', returning origin vector\n",
      "WARNING:gensim.models.fasttext:could not extract any ngrams from 'je', returning origin vector\n",
      "WARNING:gensim.models.fasttext:could not extract any ngrams from 'bu', returning origin vector\n",
      "WARNING:gensim.models.fasttext:could not extract any ngrams from 'uf', returning origin vector\n",
      "WARNING:gensim.models.fasttext:could not extract any ngrams from 'fo', returning origin vector\n",
      "WARNING:gensim.models.fasttext:could not extract any ngrams from 'fu', returning origin vector\n",
      "WARNING:gensim.models.fasttext:could not extract any ngrams from 'af', returning origin vector\n",
      "WARNING:gensim.models.fasttext:could not extract any ngrams from 'ig', returning origin vector\n",
      "WARNING:gensim.models.fasttext:could not extract any ngrams from 'cu', returning origin vector\n",
      "WARNING:gensim.models.fasttext:could not extract any ngrams from 'ik', returning origin vector\n",
      "WARNING:gensim.models.fasttext:could not extract any ngrams from 'fe', returning origin vector\n",
      "WARNING:gensim.models.fasttext:could not extract any ngrams from 'ou', returning origin vector\n",
      "WARNING:gensim.models.fasttext:could not extract any ngrams from 'ud', returning origin vector\n",
      "WARNING:gensim.models.fasttext:could not extract any ngrams from 'pa', returning origin vector\n",
      "WARNING:gensim.models.fasttext:could not extract any ngrams from 'je', returning origin vector\n",
      "WARNING:gensim.models.fasttext:could not extract any ngrams from 'je', returning origin vector\n",
      "WARNING:gensim.models.fasttext:could not extract any ngrams from 'af', returning origin vector\n",
      "WARNING:gensim.models.fasttext:could not extract any ngrams from 'ny', returning origin vector\n",
      "WARNING:gensim.models.fasttext:could not extract any ngrams from 'ig', returning origin vector\n",
      "WARNING:gensim.models.fasttext:could not extract any ngrams from 'dy', returning origin vector\n",
      "WARNING:gensim.models.fasttext:could not extract any ngrams from 'ta', returning origin vector\n",
      "WARNING:gensim.models.fasttext:could not extract any ngrams from 'ap', returning origin vector\n",
      "WARNING:gensim.models.fasttext:could not extract any ngrams from 'jo', returning origin vector\n",
      "WARNING:gensim.models.fasttext:could not extract any ngrams from 'ga', returning origin vector\n",
      "WARNING:gensim.models.fasttext:could not extract any ngrams from 'ig', returning origin vector\n",
      "WARNING:gensim.models.fasttext:could not extract any ngrams from 'ke', returning origin vector\n",
      "WARNING:gensim.models.fasttext:could not extract any ngrams from 'cu', returning origin vector\n",
      "WARNING:gensim.models.fasttext:could not extract any ngrams from 'ut', returning origin vector\n",
      "WARNING:gensim.models.fasttext:could not extract any ngrams from 'ny', returning origin vector\n",
      "WARNING:gensim.models.fasttext:could not extract any ngrams from 'oi', returning origin vector\n",
      "WARNING:gensim.models.fasttext:could not extract any ngrams from 'ig', returning origin vector\n",
      "WARNING:gensim.models.fasttext:could not extract any ngrams from 'ze', returning origin vector\n",
      "WARNING:gensim.models.fasttext:could not extract any ngrams from 'af', returning origin vector\n",
      "WARNING:gensim.models.fasttext:could not extract any ngrams from 'ny', returning origin vector\n",
      "WARNING:gensim.models.fasttext:could not extract any ngrams from 'ny', returning origin vector\n",
      "WARNING:gensim.models.fasttext:could not extract any ngrams from 'af', returning origin vector\n",
      "WARNING:gensim.models.fasttext:could not extract any ngrams from 'af', returning origin vector\n",
      "WARNING:gensim.models.fasttext:could not extract any ngrams from 'yu', returning origin vector\n",
      "WARNING:gensim.models.fasttext:could not extract any ngrams from 'cu', returning origin vector\n",
      "WARNING:gensim.models.fasttext:could not extract any ngrams from 'ti', returning origin vector\n",
      "WARNING:gensim.models.fasttext:could not extract any ngrams from 'tu', returning origin vector\n",
      "WARNING:gensim.models.fasttext:could not extract any ngrams from 'aw', returning origin vector\n",
      "WARNING:gensim.models.fasttext:could not extract any ngrams from 'pu', returning origin vector\n",
      "WARNING:gensim.models.fasttext:could not extract any ngrams from 'pu', returning origin vector\n",
      "WARNING:gensim.models.fasttext:could not extract any ngrams from 'ae', returning origin vector\n",
      "WARNING:gensim.models.fasttext:could not extract any ngrams from 'aw', returning origin vector\n",
      "WARNING:gensim.models.fasttext:could not extract any ngrams from 'nu', returning origin vector\n",
      "WARNING:gensim.models.fasttext:could not extract any ngrams from 'ri', returning origin vector\n",
      "WARNING:gensim.models.fasttext:could not extract any ngrams from 'ik', returning origin vector\n",
      "WARNING:gensim.models.fasttext:could not extract any ngrams from 'pa', returning origin vector\n",
      "WARNING:gensim.models.fasttext:could not extract any ngrams from 'tu', returning origin vector\n",
      "WARNING:gensim.models.fasttext:could not extract any ngrams from 'fo', returning origin vector\n",
      "WARNING:gensim.models.fasttext:could not extract any ngrams from 'ab', returning origin vector\n",
      "WARNING:gensim.models.fasttext:could not extract any ngrams from 'ny', returning origin vector\n",
      "WARNING:gensim.models.fasttext:could not extract any ngrams from 'ke', returning origin vector\n",
      "WARNING:gensim.models.fasttext:could not extract any ngrams from 'pa', returning origin vector\n",
      "WARNING:gensim.models.fasttext:could not extract any ngrams from 'bu', returning origin vector\n"
     ]
    }
   ],
   "source": [
    "wordvec_arrays_test = np.zeros((len(X_test), 300)) \n",
    "for i in range(len(X_test)):\n",
    "    wordvec_arrays_test[i,:] = word_vector(X_test[i], 300)"
   ]
  },
  {
   "cell_type": "code",
   "execution_count": 36,
   "metadata": {
    "id": "_Q6iQPznOdQq"
   },
   "outputs": [],
   "source": [
    "X_test_vectorized=wordvec_arrays_test"
   ]
  },
  {
   "cell_type": "code",
   "execution_count": 37,
   "metadata": {
    "colab": {
     "base_uri": "https://localhost:8080/"
    },
    "id": "fKCSt18YOhM_",
    "outputId": "56b90e0e-e8e0-4265-9e32-bf5daa3a0e3a"
   },
   "outputs": [
    {
     "name": "stdout",
     "output_type": "stream",
     "text": [
      "(26690, 300)\n",
      "(4957, 300)\n"
     ]
    }
   ],
   "source": [
    "print (X_train_vectorized.shape)\n",
    "print (X_test_vectorized.shape)"
   ]
  },
  {
   "cell_type": "code",
   "execution_count": 38,
   "metadata": {
    "colab": {
     "base_uri": "https://localhost:8080/"
    },
    "id": "uA4IdxJiOlKf",
    "outputId": "f8cd414e-735d-4ef6-f1c9-b7b25526bfc4"
   },
   "outputs": [
    {
     "name": "stdout",
     "output_type": "stream",
     "text": [
      "(26690,)\n",
      "(4957,)\n"
     ]
    }
   ],
   "source": [
    "print(y_train.shape)\n",
    "print(y_test.shape)"
   ]
  },
  {
   "cell_type": "markdown",
   "metadata": {
    "id": "d63-IT_POtF5"
   },
   "source": [
    "## Model Building"
   ]
  },
  {
   "cell_type": "code",
   "execution_count": 39,
   "metadata": {
    "id": "v1JQX2MtOoxx"
   },
   "outputs": [],
   "source": [
    "from sklearn.linear_model import LogisticRegression\n",
    "from sklearn.metrics import classification_report, confusion_matrix\n",
    "lr = LogisticRegression(multi_class='auto', solver='saga', random_state = 0, penalty='elasticnet', l1_ratio=1,max_iter=1000)\n",
    "lr.fit(X_train_vectorized, y_train.ravel())\n",
    "y_pred = lr.predict(X_test_vectorized)"
   ]
  },
  {
   "cell_type": "code",
   "execution_count": 40,
   "metadata": {
    "colab": {
     "base_uri": "https://localhost:8080/"
    },
    "id": "5cENurScO21U",
    "outputId": "3d585d18-6ca2-45bf-8233-4f2a1cd70cfd"
   },
   "outputs": [
    {
     "name": "stdout",
     "output_type": "stream",
     "text": [
      "[[ 125  148   13]\n",
      " [ 467 3288   83]\n",
      " [ 192  178  463]]\n",
      "              precision    recall  f1-score   support\n",
      "\n",
      "           0       0.16      0.44      0.23       286\n",
      "           1       0.91      0.86      0.88      3838\n",
      "           2       0.83      0.56      0.67       833\n",
      "\n",
      "    accuracy                           0.78      4957\n",
      "   macro avg       0.63      0.62      0.59      4957\n",
      "weighted avg       0.85      0.78      0.81      4957\n",
      "\n"
     ]
    }
   ],
   "source": [
    "print(confusion_matrix(y_test,y_pred))\n",
    "print(classification_report(y_test,y_pred))"
   ]
  },
  {
   "cell_type": "code",
   "execution_count": 41,
   "metadata": {
    "id": "20YBOgG1O9U5"
   },
   "outputs": [],
   "source": [
    "from sklearn.naive_bayes import GaussianNB,MultinomialNB,BernoulliNB"
   ]
  },
  {
   "cell_type": "code",
   "execution_count": 42,
   "metadata": {
    "id": "eceDDZNZQZgt"
   },
   "outputs": [],
   "source": [
    "gnb = GaussianNB()\n",
    "bnb = BernoulliNB()"
   ]
  },
  {
   "cell_type": "code",
   "execution_count": 43,
   "metadata": {
    "colab": {
     "base_uri": "https://localhost:8080/"
    },
    "id": "PPW4O0mpQZon",
    "outputId": "36955aab-4c71-41e5-cad0-361e9add8f99"
   },
   "outputs": [
    {
     "name": "stdout",
     "output_type": "stream",
     "text": [
      "[[ 197   57   32]\n",
      " [1601 1964  273]\n",
      " [ 476   37  320]]\n",
      "              precision    recall  f1-score   support\n",
      "\n",
      "           0       0.09      0.69      0.15       286\n",
      "           1       0.95      0.51      0.67      3838\n",
      "           2       0.51      0.38      0.44       833\n",
      "\n",
      "    accuracy                           0.50      4957\n",
      "   macro avg       0.52      0.53      0.42      4957\n",
      "weighted avg       0.83      0.50      0.60      4957\n",
      "\n"
     ]
    }
   ],
   "source": [
    "gnb.fit(X_train_vectorized,y_train)\n",
    "y_pred = gnb.predict(X_test_vectorized)\n",
    "print(confusion_matrix(y_test,y_pred))\n",
    "print(classification_report(y_test,y_pred))"
   ]
  },
  {
   "cell_type": "code",
   "execution_count": 44,
   "metadata": {
    "colab": {
     "base_uri": "https://localhost:8080/"
    },
    "id": "WH3qM_kbQ1pa",
    "outputId": "82c3a87e-4016-446b-ce40-fca3ca48af44"
   },
   "outputs": [
    {
     "name": "stdout",
     "output_type": "stream",
     "text": [
      "[[ 108  112   66]\n",
      " [ 708 2718  412]\n",
      " [ 206   63  564]]\n",
      "              precision    recall  f1-score   support\n",
      "\n",
      "           0       0.11      0.38      0.17       286\n",
      "           1       0.94      0.71      0.81      3838\n",
      "           2       0.54      0.68      0.60       833\n",
      "\n",
      "    accuracy                           0.68      4957\n",
      "   macro avg       0.53      0.59      0.52      4957\n",
      "weighted avg       0.82      0.68      0.74      4957\n",
      "\n"
     ]
    }
   ],
   "source": [
    "bnb.fit(X_train_vectorized,y_train)\n",
    "y_pred = bnb.predict(X_test_vectorized)\n",
    "print(confusion_matrix(y_test,y_pred))\n",
    "print(classification_report(y_test,y_pred))"
   ]
  },
  {
   "cell_type": "code",
   "execution_count": 45,
   "metadata": {
    "colab": {
     "base_uri": "https://localhost:8080/"
    },
    "id": "GY5IKLDyRK11",
    "outputId": "2d337529-f569-4696-b8a8-53da72fc0486"
   },
   "outputs": [
    {
     "name": "stdout",
     "output_type": "stream",
     "text": [
      "[[ 116  168    2]\n",
      " [ 413 3408   17]\n",
      " [ 373  333  127]]\n",
      "              precision    recall  f1-score   support\n",
      "\n",
      "           0       0.13      0.41      0.20       286\n",
      "           1       0.87      0.89      0.88      3838\n",
      "           2       0.87      0.15      0.26       833\n",
      "\n",
      "    accuracy                           0.74      4957\n",
      "   macro avg       0.62      0.48      0.44      4957\n",
      "weighted avg       0.83      0.74      0.74      4957\n",
      "\n"
     ]
    }
   ],
   "source": [
    "from sklearn.svm import SVC\n",
    "svc=svc =SVC(kernel='rbf', gamma=0.5, C=0.1)\n",
    "svc.fit(X_train_vectorized,y_train)\n",
    "y_pred = svc.predict(X_test_vectorized)\n",
    "print(confusion_matrix(y_test,y_pred))\n",
    "print(classification_report(y_test,y_pred))\n"
   ]
  },
  {
   "cell_type": "code",
   "execution_count": 46,
   "metadata": {
    "colab": {
     "base_uri": "https://localhost:8080/"
    },
    "id": "QkfBxdVuSFgc",
    "outputId": "689fbc26-ae33-4b91-fe2e-9e3d05131873"
   },
   "outputs": [
    {
     "name": "stdout",
     "output_type": "stream",
     "text": [
      "[[ 115  160   11]\n",
      " [ 361 3415   62]\n",
      " [ 231  235  367]]\n",
      "              precision    recall  f1-score   support\n",
      "\n",
      "           0       0.16      0.40      0.23       286\n",
      "           1       0.90      0.89      0.89      3838\n",
      "           2       0.83      0.44      0.58       833\n",
      "\n",
      "    accuracy                           0.79      4957\n",
      "   macro avg       0.63      0.58      0.57      4957\n",
      "weighted avg       0.84      0.79      0.80      4957\n",
      "\n"
     ]
    }
   ],
   "source": [
    "svc_poly=svc =SVC(kernel='poly',degree=3, C=1)\n",
    "svc_poly.fit(X_train_vectorized,y_train)\n",
    "y_pred = svc_poly.predict(X_test_vectorized)\n",
    "print(confusion_matrix(y_test,y_pred))\n",
    "print(classification_report(y_test,y_pred))\n"
   ]
  },
  {
   "cell_type": "markdown",
   "metadata": {
    "id": "-SsMi3krStz8"
   },
   "source": [
    "## After Oversampling"
   ]
  },
  {
   "cell_type": "code",
   "execution_count": 47,
   "metadata": {
    "id": "XSSysO3QSqqF"
   },
   "outputs": [],
   "source": [
    "from imblearn.over_sampling import SMOTE\n",
    "from collections import Counter\n",
    "import matplotlib.pyplot as plt"
   ]
  },
  {
   "cell_type": "markdown",
   "metadata": {
    "id": "dKT3896ESzaG"
   },
   "source": [
    "### SMOTE"
   ]
  },
  {
   "cell_type": "code",
   "execution_count": 48,
   "metadata": {
    "id": "NYgeDDa4SqwA"
   },
   "outputs": [],
   "source": [
    "oversample = SMOTE()\n",
    "X_train_oversampled, y_train_oversampled = oversample.fit_resample(X_train_vectorized, y_train)"
   ]
  },
  {
   "cell_type": "code",
   "execution_count": 49,
   "metadata": {
    "colab": {
     "base_uri": "https://localhost:8080/",
     "height": 320
    },
    "id": "CJJvIg2FSqy-",
    "outputId": "d94ca8ce-720b-4c2e-816f-f31c5fc17873"
   },
   "outputs": [
    {
     "name": "stdout",
     "output_type": "stream",
     "text": [
      "Class=1, n=15352 (57.520%)\n",
      "Class=2, n=15352 (57.520%)\n",
      "Class=0, n=15352 (57.520%)\n"
     ]
    },
    {
     "data": {
      "image/png": "[encoded data removed]",
      "text/plain": [
       "<Figure size 432x288 with 1 Axes>"
      ]
     },
     "metadata": {
      "needs_background": "light"
     },
     "output_type": "display_data"
    }
   ],
   "source": [
    "counter = Counter(y_train_oversampled)\n",
    "for k,v in counter.items():\n",
    "    per = v / len(y_train) * 100\n",
    "    print('Class=%d, n=%d (%.3f%%)' % (k, v, per))\n",
    "# plot the distribution\n",
    "plt.bar(counter.keys(), counter.values())\n",
    "plt.show()"
   ]
  },
  {
   "cell_type": "code",
   "execution_count": 50,
   "metadata": {
    "colab": {
     "base_uri": "https://localhost:8080/"
    },
    "id": "PtiurlzsSq1-",
    "outputId": "d71b4928-3cdf-4755-9de8-cbee09b54e5e"
   },
   "outputs": [
    {
     "name": "stdout",
     "output_type": "stream",
     "text": [
      "[[ 154   83   49]\n",
      " [ 778 2702  358]\n",
      " [ 117   34  682]]\n",
      "              precision    recall  f1-score   support\n",
      "\n",
      "           0       0.15      0.54      0.23       286\n",
      "           1       0.96      0.70      0.81      3838\n",
      "           2       0.63      0.82      0.71       833\n",
      "\n",
      "    accuracy                           0.71      4957\n",
      "   macro avg       0.58      0.69      0.58      4957\n",
      "weighted avg       0.86      0.71      0.76      4957\n",
      "\n"
     ]
    }
   ],
   "source": [
    "lr_over = LogisticRegression(random_state=0)\n",
    "lr_over.fit(X_train_oversampled, y_train_oversampled)\n",
    "y_pred = lr_over.predict(X_test_vectorized)\n",
    "print(confusion_matrix(y_test,y_pred))\n",
    "print(classification_report(y_test,y_pred))"
   ]
  },
  {
   "cell_type": "code",
   "execution_count": 52,
   "metadata": {
    "id": "SESsTPxwSq9I"
   },
   "outputs": [],
   "source": [
    "gnb_over = GaussianNB()\n",
    "bnb_over = BernoulliNB()"
   ]
  },
  {
   "cell_type": "code",
   "execution_count": 53,
   "metadata": {
    "colab": {
     "base_uri": "https://localhost:8080/"
    },
    "id": "MzbvNwNMTnZU",
    "outputId": "e3d429b6-902c-43e6-ea07-464dc29d0379"
   },
   "outputs": [
    {
     "name": "stdout",
     "output_type": "stream",
     "text": [
      "[[ 182   76   28]\n",
      " [1583 2083  172]\n",
      " [ 336  137  360]]\n",
      "              precision    recall  f1-score   support\n",
      "\n",
      "           0       0.09      0.64      0.15       286\n",
      "           1       0.91      0.54      0.68      3838\n",
      "           2       0.64      0.43      0.52       833\n",
      "\n",
      "    accuracy                           0.53      4957\n",
      "   macro avg       0.55      0.54      0.45      4957\n",
      "weighted avg       0.82      0.53      0.62      4957\n",
      "\n"
     ]
    }
   ],
   "source": [
    "\n",
    "gnb_over.fit(X_train_oversampled, y_train_oversampled)\n",
    "y_pred = gnb_over.predict(X_test_vectorized)\n",
    "print(confusion_matrix(y_test,y_pred))\n",
    "print(classification_report(y_test,y_pred))"
   ]
  },
  {
   "cell_type": "code",
   "execution_count": 54,
   "metadata": {
    "colab": {
     "base_uri": "https://localhost:8080/"
    },
    "id": "8ER6O2bsTncT",
    "outputId": "1b187f01-53d9-479d-9514-d8eac86fd45d"
   },
   "outputs": [
    {
     "name": "stdout",
     "output_type": "stream",
     "text": [
      "[[ 103  103   80]\n",
      " [ 754 2652  432]\n",
      " [ 181   55  597]]\n",
      "              precision    recall  f1-score   support\n",
      "\n",
      "           0       0.10      0.36      0.16       286\n",
      "           1       0.94      0.69      0.80      3838\n",
      "           2       0.54      0.72      0.61       833\n",
      "\n",
      "    accuracy                           0.68      4957\n",
      "   macro avg       0.53      0.59      0.52      4957\n",
      "weighted avg       0.83      0.68      0.73      4957\n",
      "\n"
     ]
    }
   ],
   "source": [
    "\n",
    "bnb_over.fit(X_train_oversampled, y_train_oversampled)\n",
    "y_pred = bnb_over.predict(X_test_vectorized)\n",
    "print(confusion_matrix(y_test,y_pred))\n",
    "print(classification_report(y_test,y_pred))"
   ]
  },
  {
   "cell_type": "code",
   "execution_count": 55,
   "metadata": {
    "colab": {
     "base_uri": "https://localhost:8080/"
    },
    "id": "EvgJYZgudQW2",
    "outputId": "ef7dd942-55a4-45b7-ef61-53f750e1eb97"
   },
   "outputs": [
    {
     "name": "stdout",
     "output_type": "stream",
     "text": [
      "[[ 115  160   11]\n",
      " [ 361 3415   62]\n",
      " [ 231  235  367]]\n",
      "              precision    recall  f1-score   support\n",
      "\n",
      "           0       0.16      0.40      0.23       286\n",
      "           1       0.90      0.89      0.89      3838\n",
      "           2       0.83      0.44      0.58       833\n",
      "\n",
      "    accuracy                           0.79      4957\n",
      "   macro avg       0.63      0.58      0.57      4957\n",
      "weighted avg       0.84      0.79      0.80      4957\n",
      "\n"
     ]
    }
   ],
   "source": [
    "svc_over=SVC(kernel='rbf', gamma=0.5, C=0.1)\n",
    "svc_over.fit(X_train_oversampled,y_train_oversampled)\n",
    "y_pred = svc.predict(X_test_vectorized)\n",
    "print(confusion_matrix(y_test,y_pred))\n",
    "print(classification_report(y_test,y_pred))\n"
   ]
  },
  {
   "cell_type": "code",
   "execution_count": 56,
   "metadata": {
    "colab": {
     "base_uri": "https://localhost:8080/"
    },
    "id": "BuwGHnECc3SN",
    "outputId": "acd85c68-f79a-49f6-a131-9e9f06cd4722"
   },
   "outputs": [
    {
     "name": "stdout",
     "output_type": "stream",
     "text": [
      "[[ 115  160   11]\n",
      " [ 361 3415   62]\n",
      " [ 231  235  367]]\n",
      "              precision    recall  f1-score   support\n",
      "\n",
      "           0       0.16      0.40      0.23       286\n",
      "           1       0.90      0.89      0.89      3838\n",
      "           2       0.83      0.44      0.58       833\n",
      "\n",
      "    accuracy                           0.79      4957\n",
      "   macro avg       0.63      0.58      0.57      4957\n",
      "weighted avg       0.84      0.79      0.80      4957\n",
      "\n"
     ]
    }
   ],
   "source": [
    "svc_poly_over =SVC(kernel='poly',degree=3, C=1)\n",
    "svc_poly_over.fit(X_train_oversampled,y_train_oversampled)\n",
    "y_pred = svc_poly.predict(X_test_vectorized)\n",
    "print(confusion_matrix(y_test,y_pred))\n",
    "print(classification_report(y_test,y_pred))\n"
   ]
  },
  {
   "cell_type": "code",
   "execution_count": 57,
   "metadata": {
    "colab": {
     "base_uri": "https://localhost:8080/"
    },
    "id": "V7sRy-4mTneq",
    "outputId": "b91c4b67-6d44-45a3-e04a-ab68311c62a5"
   },
   "outputs": [
    {
     "name": "stdout",
     "output_type": "stream",
     "text": [
      "[[  92  138   56]\n",
      " [ 337 3186  315]\n",
      " [  65  159  609]]\n",
      "              precision    recall  f1-score   support\n",
      "\n",
      "           0       0.19      0.32      0.24       286\n",
      "           1       0.91      0.83      0.87      3838\n",
      "           2       0.62      0.73      0.67       833\n",
      "\n",
      "    accuracy                           0.78      4957\n",
      "   macro avg       0.57      0.63      0.59      4957\n",
      "weighted avg       0.82      0.78      0.80      4957\n",
      "\n"
     ]
    }
   ],
   "source": [
    "from sklearn.ensemble import RandomForestClassifier\n",
    "rf_over= RandomForestClassifier(n_estimators = 100, criterion = 'entropy', random_state = 42)\n",
    "rf_over.fit(X_train_oversampled, y_train_oversampled)\n",
    "y_pred = rf_over.predict(X_test_vectorized)\n",
    "print(confusion_matrix(y_test,y_pred))\n",
    "print(classification_report(y_test,y_pred))"
   ]
  },
  {
   "cell_type": "markdown",
   "metadata": {
    "id": "AgCSnWBnajIu"
   },
   "source": [
    "### Hybridization: SMOTE + Tomek Links"
   ]
  },
  {
   "cell_type": "code",
   "execution_count": 58,
   "metadata": {
    "colab": {
     "base_uri": "https://localhost:8080/"
    },
    "id": "r0z-9kgMTnhE",
    "outputId": "e2eab710-e5d7-4cf8-f0fb-938a348acc11"
   },
   "outputs": [
    {
     "data": {
      "text/plain": [
       "(26690, 300)"
      ]
     },
     "execution_count": 58,
     "metadata": {},
     "output_type": "execute_result"
    }
   ],
   "source": [
    "X_train_vectorized.shape"
   ]
  },
  {
   "cell_type": "code",
   "execution_count": 59,
   "metadata": {
    "colab": {
     "base_uri": "https://localhost:8080/"
    },
    "id": "FzBhs0drTnjz",
    "outputId": "0f1bf07c-c050-466c-dac6-f6fedbca8d26"
   },
   "outputs": [
    {
     "data": {
      "text/plain": [
       "(4957, 300)"
      ]
     },
     "execution_count": 59,
     "metadata": {},
     "output_type": "execute_result"
    }
   ],
   "source": [
    "X_test_vectorized.shape"
   ]
  },
  {
   "cell_type": "code",
   "execution_count": 60,
   "metadata": {
    "colab": {
     "base_uri": "https://localhost:8080/"
    },
    "id": "a5sDvICjat24",
    "outputId": "0f1a69cf-be95-41a3-90cf-42ca9488272a"
   },
   "outputs": [
    {
     "name": "stdout",
     "output_type": "stream",
     "text": [
      "before :  Counter({1: 15352, 0: 8008, 2: 3330})\n",
      "After :  Counter({2: 15332, 0: 15303, 1: 15287})\n"
     ]
    }
   ],
   "source": [
    "from imblearn.combine import SMOTETomek\n",
    "\n",
    "counter=Counter(y_train)\n",
    "print (\"before : \" , counter)\n",
    "\n",
    "smtom=SMOTETomek(random_state=139)\n",
    "\n",
    "X_train_smtom, y_train_smtom=smtom.fit_resample(X_train_vectorized, y_train)\n",
    "\n",
    "counter=Counter(y_train_smtom)\n",
    "print (\"After : \" , counter)"
   ]
  },
  {
   "cell_type": "code",
   "execution_count": 61,
   "metadata": {
    "colab": {
     "base_uri": "https://localhost:8080/"
    },
    "id": "6FIJt3L4awWu",
    "outputId": "0308f163-9394-43be-a657-f1a33954854f"
   },
   "outputs": [
    {
     "name": "stdout",
     "output_type": "stream",
     "text": [
      "[[ 155   83   48]\n",
      " [ 791 2695  352]\n",
      " [ 121   33  679]]\n",
      "              precision    recall  f1-score   support\n",
      "\n",
      "           0       0.15      0.54      0.23       286\n",
      "           1       0.96      0.70      0.81      3838\n",
      "           2       0.63      0.82      0.71       833\n",
      "\n",
      "    accuracy                           0.71      4957\n",
      "   macro avg       0.58      0.69      0.58      4957\n",
      "weighted avg       0.86      0.71      0.76      4957\n",
      "\n"
     ]
    }
   ],
   "source": [
    "lr_smtom = LogisticRegression(random_state=0)\n",
    "lr_smtom.fit(X_train_smtom, y_train_smtom)\n",
    "y_pred = lr_smtom.predict(X_test_vectorized)\n",
    "print(confusion_matrix(y_test,y_pred))\n",
    "print(classification_report(y_test,y_pred))"
   ]
  },
  {
   "cell_type": "code",
   "execution_count": 62,
   "metadata": {
    "colab": {
     "base_uri": "https://localhost:8080/"
    },
    "id": "qZX8kN4jbPTF",
    "outputId": "5af480bb-3f64-4b0f-e3f9-1f17a88467da"
   },
   "outputs": [
    {
     "name": "stdout",
     "output_type": "stream",
     "text": [
      "[[ 182   76   28]\n",
      " [1583 2083  172]\n",
      " [ 336  137  360]]\n",
      "              precision    recall  f1-score   support\n",
      "\n",
      "           0       0.09      0.64      0.15       286\n",
      "           1       0.91      0.54      0.68      3838\n",
      "           2       0.64      0.43      0.52       833\n",
      "\n",
      "    accuracy                           0.53      4957\n",
      "   macro avg       0.55      0.54      0.45      4957\n",
      "weighted avg       0.82      0.53      0.62      4957\n",
      "\n"
     ]
    }
   ],
   "source": [
    "gnb_smtom = GaussianNB()\n",
    "bnb_smtom = BernoulliNB()\n",
    "\n",
    "gnb_smtom.fit(X_train_smtom, y_train_smtom)\n",
    "y_pred = gnb_over.predict(X_test_vectorized)\n",
    "print(confusion_matrix(y_test,y_pred))\n",
    "print(classification_report(y_test,y_pred))"
   ]
  },
  {
   "cell_type": "code",
   "execution_count": 63,
   "metadata": {
    "colab": {
     "base_uri": "https://localhost:8080/"
    },
    "id": "63KxmKNlb90a",
    "outputId": "f8783382-8242-4cf9-9b01-88bdab5e97c2"
   },
   "outputs": [
    {
     "name": "stdout",
     "output_type": "stream",
     "text": [
      "[[ 102  105   79]\n",
      " [ 757 2653  428]\n",
      " [ 184   56  593]]\n",
      "              precision    recall  f1-score   support\n",
      "\n",
      "           0       0.10      0.36      0.15       286\n",
      "           1       0.94      0.69      0.80      3838\n",
      "           2       0.54      0.71      0.61       833\n",
      "\n",
      "    accuracy                           0.68      4957\n",
      "   macro avg       0.53      0.59      0.52      4957\n",
      "weighted avg       0.83      0.68      0.73      4957\n",
      "\n"
     ]
    }
   ],
   "source": [
    "bnb_smtom.fit(X_train_smtom, y_train_smtom)\n",
    "y_pred = bnb_smtom.predict(X_test_vectorized)\n",
    "print(confusion_matrix(y_test,y_pred))\n",
    "print(classification_report(y_test,y_pred))"
   ]
  },
  {
   "cell_type": "code",
   "execution_count": 64,
   "metadata": {
    "colab": {
     "base_uri": "https://localhost:8080/"
    },
    "id": "koBKeNXTdgJ2",
    "outputId": "37a9fcee-1cb5-42c7-9e91-b6f1c8c9e8fa"
   },
   "outputs": [
    {
     "name": "stdout",
     "output_type": "stream",
     "text": [
      "[[ 162   74   50]\n",
      " [ 890 2541  407]\n",
      " [ 147   30  656]]\n",
      "              precision    recall  f1-score   support\n",
      "\n",
      "           0       0.14      0.57      0.22       286\n",
      "           1       0.96      0.66      0.78      3838\n",
      "           2       0.59      0.79      0.67       833\n",
      "\n",
      "    accuracy                           0.68      4957\n",
      "   macro avg       0.56      0.67      0.56      4957\n",
      "weighted avg       0.85      0.68      0.73      4957\n",
      "\n"
     ]
    }
   ],
   "source": [
    "svc_smtom =SVC(kernel='rbf', gamma=0.5, C=0.1)\n",
    "svc_smtom.fit(X_train_smtom,y_train_smtom)\n",
    "y_pred = svc_smtom.predict(X_test_vectorized)\n",
    "print(confusion_matrix(y_test,y_pred))\n",
    "print(classification_report(y_test,y_pred))"
   ]
  },
  {
   "cell_type": "code",
   "execution_count": 66,
   "metadata": {
    "colab": {
     "base_uri": "https://localhost:8080/"
    },
    "id": "NSTlrM3bdgNP",
    "outputId": "06bc5c4c-85d5-4fa3-ac68-eaa0a0fea608"
   },
   "outputs": [
    {
     "name": "stdout",
     "output_type": "stream",
     "text": [
      "[[ 151   91   44]\n",
      " [ 873 2692  273]\n",
      " [ 114   64  655]]\n",
      "              precision    recall  f1-score   support\n",
      "\n",
      "           0       0.13      0.53      0.21       286\n",
      "           1       0.95      0.70      0.81      3838\n",
      "           2       0.67      0.79      0.73       833\n",
      "\n",
      "    accuracy                           0.71      4957\n",
      "   macro avg       0.58      0.67      0.58      4957\n",
      "weighted avg       0.85      0.71      0.76      4957\n",
      "\n"
     ]
    }
   ],
   "source": [
    "svc_poly_smtom =SVC(kernel='poly',degree=3, C=1)\n",
    "svc_poly_smtom.fit(X_train_smtom,y_train_smtom)\n",
    "y_pred = svc_poly_smtom.predict(X_test_vectorized)\n",
    "print(confusion_matrix(y_test,y_pred))\n",
    "print(classification_report(y_test,y_pred))"
   ]
  },
  {
   "cell_type": "code",
   "execution_count": 65,
   "metadata": {
    "colab": {
     "base_uri": "https://localhost:8080/"
    },
    "id": "lSdWvXsub-GZ",
    "outputId": "3bc9c276-4205-4390-976f-6d2c72df7aae"
   },
   "outputs": [
    {
     "name": "stdout",
     "output_type": "stream",
     "text": [
      "[[  75  153   58]\n",
      " [ 346 3182  310]\n",
      " [  61  150  622]]\n",
      "              precision    recall  f1-score   support\n",
      "\n",
      "           0       0.16      0.26      0.20       286\n",
      "           1       0.91      0.83      0.87      3838\n",
      "           2       0.63      0.75      0.68       833\n",
      "\n",
      "    accuracy                           0.78      4957\n",
      "   macro avg       0.57      0.61      0.58      4957\n",
      "weighted avg       0.82      0.78      0.80      4957\n",
      "\n"
     ]
    }
   ],
   "source": [
    "rf_over= RandomForestClassifier(n_estimators = 100, criterion = 'entropy', random_state = 42)\n",
    "rf_over.fit(X_train_smtom, y_train_smtom)\n",
    "y_pred = rf_over.predict(X_test_vectorized)\n",
    "print(confusion_matrix(y_test,y_pred))\n",
    "print(classification_report(y_test,y_pred))"
   ]
  },
  {
   "cell_type": "markdown",
   "metadata": {
    "id": "_aSi8RWK0ir1"
   },
   "source": [
    "### Oversampling with SMOTE or SMOTETomek is not doing much to improve anything. We will try to combine LR +SVC poly on vectorized data to see if it makes any difference"
   ]
  },
  {
   "cell_type": "markdown",
   "metadata": {
    "id": "M3YqDliB1Kxx"
   },
   "source": [
    "### Voting Classifier\n"
   ]
  },
  {
   "cell_type": "code",
   "execution_count": 67,
   "metadata": {
    "id": "BDNDR8jM0h72"
   },
   "outputs": [],
   "source": [
    "from sklearn.ensemble import VotingClassifier"
   ]
  },
  {
   "cell_type": "code",
   "execution_count": 76,
   "metadata": {
    "id": "oYnBLGBu1xzn"
   },
   "outputs": [],
   "source": [
    "lr = LogisticRegression(multi_class='auto', solver='saga', random_state = 0, penalty='elasticnet', l1_ratio=1,max_iter=1000)\n",
    "svc_poly=SVC(kernel='poly',degree=3, C=1,  probability=True)"
   ]
  },
  {
   "cell_type": "code",
   "execution_count": 85,
   "metadata": {
    "id": "d1FgT7ue0iCU"
   },
   "outputs": [],
   "source": [
    "voting = VotingClassifier(estimators=[('lr', lr), ('svc', svc_poly)],voting='soft')"
   ]
  },
  {
   "cell_type": "code",
   "execution_count": 86,
   "metadata": {
    "colab": {
     "base_uri": "https://localhost:8080/"
    },
    "id": "nfMOfN8J0iGB",
    "outputId": "aae87783-a50e-4adf-bfe9-00aa6a7ae625"
   },
   "outputs": [
    {
     "data": {
      "text/plain": [
       "VotingClassifier(estimators=[('lr',\n",
       "                              LogisticRegression(l1_ratio=1, max_iter=1000,\n",
       "                                                 penalty='elasticnet',\n",
       "                                                 random_state=0,\n",
       "                                                 solver='saga')),\n",
       "                             ('svc',\n",
       "                              SVC(C=1, kernel='poly', probability=True))],\n",
       "                 voting='soft')"
      ]
     },
     "execution_count": 86,
     "metadata": {},
     "output_type": "execute_result"
    }
   ],
   "source": [
    "voting.fit(X_train_vectorized,y_train)"
   ]
  },
  {
   "cell_type": "code",
   "execution_count": 87,
   "metadata": {
    "colab": {
     "base_uri": "https://localhost:8080/"
    },
    "id": "Int5efdX2PCt",
    "outputId": "af20dc14-4c3a-4bc3-dfd0-ec9058af5a2a"
   },
   "outputs": [
    {
     "name": "stdout",
     "output_type": "stream",
     "text": [
      "[[ 119  150   17]\n",
      " [ 388 3364   86]\n",
      " [ 150  180  503]]\n",
      "              precision    recall  f1-score   support\n",
      "\n",
      "           0       0.18      0.42      0.25       286\n",
      "           1       0.91      0.88      0.89      3838\n",
      "           2       0.83      0.60      0.70       833\n",
      "\n",
      "    accuracy                           0.80      4957\n",
      "   macro avg       0.64      0.63      0.61      4957\n",
      "weighted avg       0.86      0.80      0.82      4957\n",
      "\n"
     ]
    }
   ],
   "source": [
    "y_pred = voting.predict(X_test_vectorized)\n",
    "print(confusion_matrix(y_test,y_pred))\n",
    "print(classification_report(y_test,y_pred))"
   ]
  },
  {
   "cell_type": "code",
   "execution_count": 90,
   "metadata": {
    "id": "mC0jOgfyTfR4"
   },
   "outputs": [],
   "source": [
    "voting1=VotingClassifier(estimators=[('lr', lr), ('svc', svc_poly)],voting='soft')"
   ]
  },
  {
   "cell_type": "code",
   "execution_count": 91,
   "metadata": {
    "colab": {
     "base_uri": "https://localhost:8080/"
    },
    "id": "9dW-f-ZvS3Qv",
    "outputId": "ca7baa65-7139-4813-e437-b770d3867cf9"
   },
   "outputs": [
    {
     "data": {
      "text/plain": [
       "VotingClassifier(estimators=[('lr',\n",
       "                              LogisticRegression(l1_ratio=1, max_iter=1000,\n",
       "                                                 penalty='elasticnet',\n",
       "                                                 random_state=0,\n",
       "                                                 solver='saga')),\n",
       "                             ('svc',\n",
       "                              SVC(C=1, kernel='poly', probability=True))],\n",
       "                 voting='soft')"
      ]
     },
     "execution_count": 91,
     "metadata": {},
     "output_type": "execute_result"
    }
   ],
   "source": [
    "voting1.fit(X_train_oversampled,y_train_oversampled)"
   ]
  },
  {
   "cell_type": "code",
   "execution_count": 92,
   "metadata": {
    "colab": {
     "base_uri": "https://localhost:8080/"
    },
    "id": "R_zwDoC9TAXp",
    "outputId": "6ff6f7dd-0a6b-49c7-80e7-fe23fb67537e"
   },
   "outputs": [
    {
     "name": "stdout",
     "output_type": "stream",
     "text": [
      "[[ 119  150   17]\n",
      " [ 388 3364   86]\n",
      " [ 150  180  503]]\n",
      "              precision    recall  f1-score   support\n",
      "\n",
      "           0       0.18      0.42      0.25       286\n",
      "           1       0.91      0.88      0.89      3838\n",
      "           2       0.83      0.60      0.70       833\n",
      "\n",
      "    accuracy                           0.80      4957\n",
      "   macro avg       0.64      0.63      0.61      4957\n",
      "weighted avg       0.86      0.80      0.82      4957\n",
      "\n"
     ]
    }
   ],
   "source": [
    "y_pred = voting.predict(X_test_vectorized)\n",
    "print(confusion_matrix(y_test,y_pred))\n",
    "print(classification_report(y_test,y_pred))"
   ]
  },
  {
   "cell_type": "code",
   "execution_count": 81,
   "metadata": {
    "id": "7Wa5QIuE4FcB"
   },
   "outputs": [],
   "source": [
    "from sklearn.ensemble import StackingClassifier"
   ]
  },
  {
   "cell_type": "code",
   "execution_count": 82,
   "metadata": {
    "id": "I1Dszc6x4Foe"
   },
   "outputs": [],
   "source": [
    "estimators=[('lr', lr), ('svc', svc_poly)]\n",
    "final_estimator=RandomForestClassifier()"
   ]
  },
  {
   "cell_type": "code",
   "execution_count": 83,
   "metadata": {
    "id": "o24Kt93R4tIF"
   },
   "outputs": [],
   "source": [
    "clf = StackingClassifier(estimators=estimators, final_estimator=final_estimator)"
   ]
  },
  {
   "cell_type": "code",
   "execution_count": 84,
   "metadata": {
    "colab": {
     "base_uri": "https://localhost:8080/"
    },
    "id": "2OojNJ5J4tLr",
    "outputId": "94bb18ca-9f72-4640-b172-c5979d17ffc6"
   },
   "outputs": [
    {
     "name": "stdout",
     "output_type": "stream",
     "text": [
      "[[ 112  151   23]\n",
      " [ 439 3281  118]\n",
      " [ 135  176  522]]\n",
      "              precision    recall  f1-score   support\n",
      "\n",
      "           0       0.16      0.39      0.23       286\n",
      "           1       0.91      0.85      0.88      3838\n",
      "           2       0.79      0.63      0.70       833\n",
      "\n",
      "    accuracy                           0.79      4957\n",
      "   macro avg       0.62      0.62      0.60      4957\n",
      "weighted avg       0.85      0.79      0.81      4957\n",
      "\n"
     ]
    }
   ],
   "source": [
    "clf.fit(X_train_vectorized,y_train)\n",
    "y_pred = clf.predict(X_test_vectorized)\n",
    "print(confusion_matrix(y_test,y_pred))\n",
    "print(classification_report(y_test,y_pred))"
   ]
  },
  {
   "cell_type": "code",
   "execution_count": 88,
   "metadata": {
    "id": "M_UEhBmr4tO6"
   },
   "outputs": [],
   "source": [
    "import pickle\n",
    "pickle.dump(lr,open('lr.pkl','wb'))\n",
    "pickle.dump(clf,open('clf.pkl','wb'))\n",
    "## best\n",
    "pickle.dump(voting,open('voting.pkl','wb'))"
   ]
  },
  {
   "cell_type": "code",
   "execution_count": null,
   "metadata": {
    "id": "Sj3TUOORQviw"
   },
   "outputs": [],
   "source": []
  }
 ],
 "metadata": {
  "colab": {
   "provenance": []
  },
  "kernelspec": {
   "display_name": "Python 3 (ipykernel)",
   "language": "python",
   "name": "python3"
  },
  "language_info": {
   "codemirror_mode": {
    "name": "ipython",
    "version": 3
   },
   "file_extension": ".py",
   "mimetype": "text/x-python",
   "name": "python",
   "nbconvert_exporter": "python",
   "pygments_lexer": "ipython3",
   "version": "3.9.12"
  }
 },
 "nbformat": 4,
 "nbformat_minor": 1
}
